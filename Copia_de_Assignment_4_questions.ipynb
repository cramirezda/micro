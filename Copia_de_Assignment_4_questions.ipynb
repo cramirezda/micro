{
  "cells": [
    {
      "cell_type": "markdown",
      "metadata": {
        "id": "0QouW0jaYxhh"
      },
      "source": [
        "# ASSIGNMENT 4\n",
        "# *YOUR NAME*\n",
        "\n",
        "## ECO 50213: Advanced Microeconometrics\n",
        "## March 7, 2025\n",
        "\n",
        "Please complete your code and text answers in this notebook, then export the notebook to PDF format. Use the online submission feature of Canvas to upload your PDF before 6:00 p.m. on Friday, March 14.\n",
        "\n",
        "You are encouraged to work together on the assignments. AI tools may be used to assist in coding, debugging, or understanding concepts. However, the final submission must be your own work, written in your own words, and reflect your own understanding."
      ]
    },
    {
      "cell_type": "code",
      "execution_count": 1,
      "metadata": {
        "id": "RChtyxv9aEv9"
      },
      "outputs": [],
      "source": [
        "import pandas as pd\n",
        "import numpy as np\n",
        "import matplotlib.pyplot as plt\n",
        "import statsmodels.api as sm\n",
        "import statsmodels.formula.api as smf"
      ]
    },
    {
      "cell_type": "markdown",
      "metadata": {
        "id": "0Qs5_c6MaP_t"
      },
      "source": [
        "## Question 1: Lead and Mortality\n",
        "\n",
        "Clay, Troesken, and Haines (2014) show that the use of underground water pipes in cities in the United States increased infant mortality rates in the early 1900s, but only in cities with acidic water supply. More acidic water running through the pipes increases the amount of lead that leaches from the pipes into the water. The paper abstract:\n",
        "\n",
        "*This paper examines the effect of waterborne lead exposure on infant mortality in American cities over the period 1900 to 1920. Variation across cities in water acidity and the types of service pipes, which together determined the extent of lead exposure, identifies the effects of lead on infant mortality. In 1900, a decline in exposure equivalent to an increase in pH from 6.675 (25th percentile) to 7.3 (50th percentile) in cities with lead-only pipes would have been associated with a decrease in infant mortality of 7% to 33%, or at least twelve fewer infant deaths per 1,000 live births.*\n",
        "\n",
        "Although the data for the paper is 120 years old, the problem has not gone away. In 2014-16, there was a public health crisis in the city of Flint, Michigan, when the city switched to a cheaper, but more acidic, source for its water supply. Many of the underground pipes in Flint were still made of lead. This leached into the more acidic water and poisoned thousands of Flint children.\n",
        "\n",
        "The following code will import a subset of the data used in the paper and show the first few observations."
      ]
    },
    {
      "cell_type": "code",
      "execution_count": 73,
      "metadata": {
        "id": "KHdcTdn5xUI8",
        "colab": {
          "base_uri": "https://localhost:8080/"
        },
        "outputId": "4fd49c1d-f055-4133-cdef-31eac15f81cf"
      },
      "outputs": [
        {
          "output_type": "stream",
          "name": "stdout",
          "text": [
            "   year       city state        age  hardness   ph   infrate  typhoid_rate  \\\n",
            "0  1900    Alameda    CA  28.954838        97  7.6  0.109756      0.024390   \n",
            "1  1900     Albany    NY  30.347675        43  7.3  0.298618      0.041445   \n",
            "2  1900  Allegheny    PA  27.087301       111  7.3  0.446841      0.093991   \n",
            "3  1900  Allentown    PA  27.764046       176  7.7  0.384181      0.028249   \n",
            "4  1900    Altoona    PA  27.037533       111  7.3  0.467866      0.043702   \n",
            "\n",
            "   np_tub_rate  mom_rate  population  precipitation  temperature  lead  \\\n",
            "0     0.030488  0.195122       164.0       1.850307    59.026169     0   \n",
            "1     0.013815  0.179596       941.0       3.278735    45.267910     1   \n",
            "2     0.027735  0.192604      1298.0       3.350943    48.971493     1   \n",
            "3     0.005650  0.197740       354.0       3.350943    48.971493     1   \n",
            "4     0.007712  0.182519       389.0       3.350943    48.971493     0   \n",
            "\n",
            "   foreign_share  \n",
            "0       0.193548  \n",
            "1       0.184884  \n",
            "2       0.237302  \n",
            "3       0.078652  \n",
            "4       0.112601  \n"
          ]
        }
      ],
      "source": [
        "url = \"https://raw.githubusercontent.com/sdmcrae/econometrics/master/datasets/lead_mortality.csv\"\n",
        "df = pd.read_csv(url)\n",
        "print(df.head())"
      ]
    },
    {
      "cell_type": "markdown",
      "metadata": {
        "id": "ZcAakxXQxUI9"
      },
      "source": [
        "The variables are defined as follows:\n",
        "- **year**: Year of observation.\n",
        "- **city**: Name of the city.\n",
        "- **state**: State abbreviation.\n",
        "- **age**: Average age of the population.\n",
        "- **hardness**: Water hardness index.\n",
        "- **ph**: Water pH level.\n",
        "- **infrate**: Infant mortality rate (deaths per 100 in population).\n",
        "- **typhoid_rate**: Typhoid death rate.\n",
        "- **np_tub_rate**: Non-pulmonary tuberculosis death rate.\n",
        "- **mom_rate**: Fraction of population who are women of child-bearing age.\n",
        "- **population**: City population (in 100s).\n",
        "- **precipitation**: Average precipitation in the state.\n",
        "- **temperature**: Average temperature in the state.\n",
        "- **lead**: Indicator variable (1 = yes, 0 = no) if the city had lead pipes (\"lead-only\" or \"mixed-lead\" cities).\n",
        "- **foreign_share**: Fraction of population who are foreign born."
      ]
    },
    {
      "cell_type": "markdown",
      "metadata": {
        "id": "mSkzdzQaxUI9"
      },
      "source": [
        "1. **Difference in means**\n",
        "   - What was the mean infant mortality rate ($infrate$) in 1900 for the cities with lead pipes ($lead = 1$)?\n",
        "   - What was the mean infant mortality rate in 1900 for the cities without lead pipes ($lead = 0$)?\n",
        "   - Perform a hypothesis test with a 5% significance level for the difference in the population mean infant mortality rates, comparing the cities with and without lead pipes."
      ]
    },
    {
      "cell_type": "code",
      "source": [
        "#What was the mean infant mortality rate ( infrate ) in 1900 for the cities with lead pipes ( lead=1 )?\n",
        "df_lead = df[(df['year'] == 1900) & (df['lead'] == 1)]\n",
        "df_lead['infrate'].mean()"
      ],
      "metadata": {
        "colab": {
          "base_uri": "https://localhost:8080/"
        },
        "id": "vy5c9dXZHJpw",
        "outputId": "6bd7616d-d5c9-4a30-c91d-951f5e2fb672"
      },
      "execution_count": 48,
      "outputs": [
        {
          "output_type": "execute_result",
          "data": {
            "text/plain": [
              "0.40325757632478637"
            ]
          },
          "metadata": {},
          "execution_count": 48
        }
      ]
    },
    {
      "cell_type": "code",
      "source": [
        "df_nolead = df[(df['year'] == 1900) & (df['lead'] == 0)]\n",
        "df_nolead['infrate'].mean()"
      ],
      "metadata": {
        "colab": {
          "base_uri": "https://localhost:8080/"
        },
        "id": "SwGt05UFORlg",
        "outputId": "301c13e4-9539-47b6-b6c7-6f2728e0c013"
      },
      "execution_count": 49,
      "outputs": [
        {
          "output_type": "execute_result",
          "data": {
            "text/plain": [
              "0.381167850709091"
            ]
          },
          "metadata": {},
          "execution_count": 49
        }
      ]
    },
    {
      "cell_type": "markdown",
      "source": [
        "PRUEBA DE LEVEN EXPLICAR!!"
      ],
      "metadata": {
        "id": "g0B6ZULqDxsL"
      }
    },
    {
      "cell_type": "code",
      "source": [
        "#Perform a hypothesis test with a 5% significance level for the difference in the population mean infant mortality rates, comparing the cities with and without lead pipes.\n",
        "import scipy.stats as stats\n",
        "# Assesing equal variance\n",
        "stat, p_value = stats.levene(df_lead['infrate'], df_nolead['infrate'])\n",
        "print(f\"Estadístico de Levene: {stat:.4f}\")\n",
        "print(f\"P-valor: {p_value:.4f}\")\n",
        "\n",
        "if p_value > 0.05:\n",
        "    print(\"No se rechaza H0: Se puede asumir igualdad de varianzas.\")\n",
        "else:\n",
        "    print(\"Se rechaza H0: No se pueden asumir varianzas iguales.\")"
      ],
      "metadata": {
        "colab": {
          "base_uri": "https://localhost:8080/"
        },
        "id": "H4qQ2Dx_DSnd",
        "outputId": "764b5d48-8796-4f26-dcd9-ef6e44bbd6b9"
      },
      "execution_count": 50,
      "outputs": [
        {
          "output_type": "stream",
          "name": "stdout",
          "text": [
            "Estadístico de Levene: 0.1483\n",
            "P-valor: 0.7007\n",
            "No se rechaza H0: Se puede asumir igualdad de varianzas.\n"
          ]
        }
      ]
    },
    {
      "cell_type": "code",
      "source": [
        "# Perform the t-test\n",
        "t_statistic, p_value = stats.ttest_ind(df_lead['infrate'], df_nolead['infrate'])\n",
        "\n",
        "# Print the results\n",
        "print(\"T-statistic:\", t_statistic)\n",
        "print(\"P-value:\", p_value)\n",
        "if p_value < 0.05:\n",
        "    print(\"Reject the null hypothesis: There is a significant difference in the mean infant mortality rates between cities with and without lead pipes.\")\n",
        "else:\n",
        "    print(\"Fail to reject the null hypothesis: There is no significant difference in the mean infant mortality rates between cities with and without lead pipes.\")"
      ],
      "metadata": {
        "id": "_aW0G3gPPe_s",
        "colab": {
          "base_uri": "https://localhost:8080/"
        },
        "outputId": "48525185-81e2-440b-896b-1b0d83230e5c"
      },
      "execution_count": 51,
      "outputs": [
        {
          "output_type": "stream",
          "name": "stdout",
          "text": [
            "T-statistic: 0.8923418246418116\n",
            "P-value: 0.3734710996478121\n",
            "Fail to reject the null hypothesis: There is no significant difference in the mean infant mortality rates between cities with and without lead pipes.\n"
          ]
        }
      ]
    },
    {
      "cell_type": "markdown",
      "metadata": {
        "id": "VGQsMT4gxUI9"
      },
      "source": [
        "2. **Interaction between two indicator variables**\n",
        "   - The amount of lead leached from the pipes depends on the acidity of the water. The pH scale ranges from 0 to 14, with a pH of less than 7 considered acidic and a pH of more than 7 considered alkaline. Create an indicator variable $acid$ that is equal to 1 if the pH of the city water supply is less than 7, and 0 otherwise.\n",
        "   - Run the following regression:\n",
        "\n",
        "   $InfMortality_i = \\beta_0 + \\beta_1 lead_i + \\beta_2 acid_i + \\beta_3 lead_i \\times acid_i + u_i$\n",
        "\n",
        "   - Carefully explain each of the four coefficients in this regression.\n",
        "   - Test the null hypothesis that there is no relationship between lead pipes and infant mortality. That is, test $H_0: \\beta_1 = 0 \\text{ and } \\beta_3 = 0$ against the alternative hypothesis $H_1: \\beta_1 \\ne 0 \\text{ or } \\beta_3 \\ne 0$. Remember to use heteroskedasticity-consistent standard errors for all of your hypothesis tests."
      ]
    },
    {
      "cell_type": "code",
      "source": [
        "df['acid'] = (df['ph'] < 7).astype(int)"
      ],
      "metadata": {
        "id": "3xv2sUDeA976"
      },
      "execution_count": 12,
      "outputs": []
    },
    {
      "cell_type": "code",
      "source": [
        "#Run regression\n",
        "model = smf.ols('infrate ~ lead + acid + lead * acid', data=df).fit(cov_type='HC0')\n",
        "print(model.summary())"
      ],
      "metadata": {
        "colab": {
          "base_uri": "https://localhost:8080/"
        },
        "id": "ckqnfB1wE5Nb",
        "outputId": "8ae310b5-ac1f-4756-89af-80909f6bf240"
      },
      "execution_count": 30,
      "outputs": [
        {
          "output_type": "stream",
          "name": "stdout",
          "text": [
            "                            OLS Regression Results                            \n",
            "==============================================================================\n",
            "Dep. Variable:                infrate   R-squared:                       0.195\n",
            "Model:                            OLS   Adj. R-squared:                  0.181\n",
            "Method:                 Least Squares   F-statistic:                     10.39\n",
            "Date:                Fri, 14 Mar 2025   Prob (F-statistic):           2.62e-06\n",
            "Time:                        10:52:19   Log-Likelihood:                 99.923\n",
            "No. Observations:                 172   AIC:                            -191.8\n",
            "Df Residuals:                     168   BIC:                            -179.3\n",
            "Df Model:                           3                                         \n",
            "Covariance Type:                  HC0                                         \n",
            "==============================================================================\n",
            "                 coef    std err          z      P>|z|      [0.025      0.975]\n",
            "------------------------------------------------------------------------------\n",
            "Intercept      0.3452      0.029     11.863      0.000       0.288       0.402\n",
            "lead           0.0154      0.032      0.485      0.628      -0.047       0.078\n",
            "acid           0.0707      0.038      1.840      0.066      -0.005       0.146\n",
            "lead:acid      0.1077      0.051      2.104      0.035       0.007       0.208\n",
            "==============================================================================\n",
            "Omnibus:                        6.628   Durbin-Watson:                   1.883\n",
            "Prob(Omnibus):                  0.036   Jarque-Bera (JB):                6.205\n",
            "Skew:                           0.406   Prob(JB):                       0.0449\n",
            "Kurtosis:                       2.545   Cond. No.                         7.95\n",
            "==============================================================================\n",
            "\n",
            "Notes:\n",
            "[1] Standard Errors are heteroscedasticity robust (HC0)\n"
          ]
        }
      ]
    },
    {
      "cell_type": "code",
      "source": [
        "# Define the restriction: X2 = 0 and Interaction = 0\n",
        "hypothesis = 'lead = 0, lead:acid = 0'\n",
        "\n",
        "# Run the F-test\n",
        "f_test_result = model.f_test(hypothesis)\n",
        "\n",
        "# Print results\n",
        "print(f\"F-statistic: {f_test_result.statistic:.4f}\")\n",
        "print(f\"P-value: {f_test_result.pvalue:.4f}\")\n",
        "\n",
        "# Interpretation\n",
        "alpha = 0.05\n",
        "if f_test_result.pvalue < alpha:\n",
        "    print(\"Reject H0: At least one of the parameters is significantly different from zero.\")\n",
        "else:\n",
        "    print(\"Fail to reject H0: The two parameters are jointly insignificant.\")\n"
      ],
      "metadata": {
        "colab": {
          "base_uri": "https://localhost:8080/"
        },
        "id": "7WhLeUA9KFxt",
        "outputId": "e74d95de-871a-485a-9258-a7395e26fd3a"
      },
      "execution_count": 31,
      "outputs": [
        {
          "output_type": "stream",
          "name": "stdout",
          "text": [
            "F-statistic: 4.8106\n",
            "P-value: 0.0093\n",
            "Reject H0: At least one of the parameters is significantly different from zero.\n"
          ]
        }
      ]
    },
    {
      "cell_type": "code",
      "source": [
        "# Define restriction matrix R (testing X2 = 0 and Interaction = 0)\n",
        "R = np.array([[0, 1, 0, 0],  # Tests X2 = 0\n",
        "              [0, 0, 0, 1]])  # Tests Interaction = 0\n",
        "\n",
        "# Define the null hypothesis values (both coefficients should be 0 under H0)\n",
        "r = np.array([0, 0])\n",
        "\n",
        "# Run the F-test using the matrix method\n",
        "f_test_result = model.f_test((R, r))\n",
        "\n",
        "# Print results\n",
        "print(f\"F-statistic: {f_test_result.statistic:.4f}\")\n",
        "print(f\"P-value: {f_test_result.pvalue:.4f}\")\n",
        "\n",
        "# Interpretation\n",
        "alpha = 0.05\n",
        "if f_test_result.pvalue < alpha:\n",
        "    print(\"Reject H0: At least one parameter (X1 or Interaction) is significant.\")\n",
        "else:\n",
        "    print(\"Fail to reject H0: X1 and Interaction are jointly insignificant.\")"
      ],
      "metadata": {
        "colab": {
          "base_uri": "https://localhost:8080/"
        },
        "id": "p-WG5mqSLtaI",
        "outputId": "cdfdf3ee-048c-4b46-ad4c-da827cd1e9cb"
      },
      "execution_count": 32,
      "outputs": [
        {
          "output_type": "stream",
          "name": "stdout",
          "text": [
            "F-statistic: 4.8106\n",
            "P-value: 0.0093\n",
            "Reject H0: At least one parameter (X1 or Interaction) is significant.\n"
          ]
        }
      ]
    },
    {
      "cell_type": "markdown",
      "metadata": {
        "id": "YWBokZ6qxUI9"
      },
      "source": [
        "3. **Interaction between an indicator and a continuous variable**\n",
        "   - Create a scatter graph to show the relationship between infant mortality and the pH of the water supply. Use different colors or markers to separate the cities with and without lead pipes. Show two linear regression lines for the regression of infant mortality on water pH, one line for the cities with lead pipes and another line for the cities without lead pipes.\n",
        "   - Run the following regression. Note that this regression has the same format as the regression in (2). The difference is that the indicator variable $acid_i$ is replaced with the continuous variable $ph_i$.\n",
        "\n",
        "   $InfMortality_i = \\beta_0 + \\beta_1 lead_i + \\beta_2 ph_i + \\beta_3 lead_i \\times ph_i + u_i$\n",
        "\n",
        "   - Explain the relationship between the four coefficients in this regression and the two linear regression lines that you included on your scatter graph.\n",
        "   - For cities with lead pipes, predict the infant mortality rate for a pH of 6.675 and for a pH of 7.3. By how much would an increase in pH from 6.675 to 7.3 have reduced infant mortality? Compare your answer to the result in the abstract of the paper."
      ]
    },
    {
      "cell_type": "code",
      "source": [
        "# Ejemplo de regresión lineal\n",
        "slope_lead, intercept_lead = np.polyfit(df_lead['ph'],df_lead['infrate'] , 1)  # Encuentra pendiente e intercepto\n",
        "\n",
        "# Genera la línea de regresión\n",
        "y_regression_lead = slope_lead * df_lead['ph'] + intercept_lead"
      ],
      "metadata": {
        "id": "lWsJjjZWWCO-"
      },
      "execution_count": 54,
      "outputs": []
    },
    {
      "cell_type": "code",
      "source": [
        "# Ejemplo de regresión lineal\n",
        "slope_nolead, intercept_nolead = np.polyfit(df_nolead['ph'],df_nolead['infrate'] , 1)  # Encuentra pendiente e intercepto\n",
        "\n",
        "# Genera la línea de regresión\n",
        "y_regression_nolead = slope_nolead * df_nolead['ph'] + intercept_nolead"
      ],
      "metadata": {
        "id": "ErekyOeFXxNT"
      },
      "execution_count": 55,
      "outputs": []
    },
    {
      "source": [
        "plt.scatter(df['ph'],df['infrate'], alpha=0.8, c=df['lead'], cmap='Accent')  # Use 'lead' column for color mapping\n",
        "plt.plot(df_lead['ph'], y_regression_lead, color='red', label='Lead Pipes')\n",
        "plt.plot(df_nolead['ph'], y_regression_nolead, color='blue', label='No Lead Pipes')\n",
        "plt.xlabel(\"pH Level\")  # Add label for x-axis\n",
        "plt.ylabel(\"Infant Mortality Rate\")  # Add label for y-axis\n",
        "plt.title(\"Relationship between Infant Mortality and pH of Water Supply\")  # Add title\n",
        "plt.show()"
      ],
      "cell_type": "code",
      "metadata": {
        "colab": {
          "base_uri": "https://localhost:8080/",
          "height": 472
        },
        "id": "1sNmAKVcUN6L",
        "outputId": "9b64d522-6355-4a8c-f1ce-11bf7e7af65b"
      },
      "execution_count": 57,
      "outputs": [
        {
          "output_type": "display_data",
          "data": {
            "text/plain": [
              "<Figure size 640x480 with 1 Axes>"
            ],
            "image/png": "[encoded data removed]"
          },
          "metadata": {}
        }
      ]
    },
    {
      "cell_type": "code",
      "source": [
        "model = smf.ols('infrate ~ lead + ph + lead * ph', data=df).fit(cov_type='HC0')\n",
        "print(model.summary())"
      ],
      "metadata": {
        "colab": {
          "base_uri": "https://localhost:8080/"
        },
        "id": "Wbb07n2zYP-w",
        "outputId": "cd8142a3-6f4e-4cd0-875a-baa11a9d06c2"
      },
      "execution_count": 74,
      "outputs": [
        {
          "output_type": "stream",
          "name": "stdout",
          "text": [
            "                            OLS Regression Results                            \n",
            "==============================================================================\n",
            "Dep. Variable:                infrate   R-squared:                       0.272\n",
            "Model:                            OLS   Adj. R-squared:                  0.259\n",
            "Method:                 Least Squares   F-statistic:                     21.47\n",
            "Date:                Fri, 14 Mar 2025   Prob (F-statistic):           8.00e-12\n",
            "Time:                        12:01:01   Log-Likelihood:                 108.52\n",
            "No. Observations:                 172   AIC:                            -209.0\n",
            "Df Residuals:                     168   BIC:                            -196.5\n",
            "Df Model:                           3                                         \n",
            "Covariance Type:                  HC0                                         \n",
            "==============================================================================\n",
            "                 coef    std err          z      P>|z|      [0.025      0.975]\n",
            "------------------------------------------------------------------------------\n",
            "Intercept      0.9189      0.149      6.178      0.000       0.627       1.210\n",
            "lead           0.4618      0.205      2.251      0.024       0.060       0.864\n",
            "ph            -0.0752      0.021     -3.630      0.000      -0.116      -0.035\n",
            "lead:ph       -0.0569      0.028     -2.049      0.040      -0.111      -0.002\n",
            "==============================================================================\n",
            "Omnibus:                        4.916   Durbin-Watson:                   1.946\n",
            "Prob(Omnibus):                  0.086   Jarque-Bera (JB):                4.987\n",
            "Skew:                           0.411   Prob(JB):                       0.0826\n",
            "Kurtosis:                       2.861   Cond. No.                         252.\n",
            "==============================================================================\n",
            "\n",
            "Notes:\n",
            "[1] Standard Errors are heteroscedasticity robust (HC0)\n"
          ]
        }
      ]
    },
    {
      "cell_type": "code",
      "source": [
        "new_data = pd.DataFrame({\n",
        "    'lead': [1, 1],  # Valores de ejemplo para lead_pipes\n",
        "    'ph': [6.675, 7.3],  # Valores de ejemplo para control_1\n",
        "})\n",
        "print(model.predict(new_data))\n",
        "print(model.predict(new_data)[0]-model.predict(new_data)[1])"
      ],
      "metadata": {
        "colab": {
          "base_uri": "https://localhost:8080/"
        },
        "id": "qy9fMqyUhuYh",
        "outputId": "e3b96bc9-4290-4f74-cf45-57087d9f75f0"
      },
      "execution_count": 82,
      "outputs": [
        {
          "output_type": "stream",
          "name": "stdout",
          "text": [
            "0    0.499326\n",
            "1    0.416800\n",
            "dtype: float64\n",
            "0.08252585664851625\n"
          ]
        }
      ]
    },
    {
      "cell_type": "code",
      "source": [
        "#For cities with lead pipes, predict the infant mortality rate for a pH of 6.675 and for a pH of 7.3\n",
        "y1=model.params.iloc[0]+model.params.iloc[1]*1+model.params.iloc[2]*6.675+model.params.iloc[3]*6.675\n",
        "y2=model.params.iloc[0]+model.params.iloc[1]*1+model.params.iloc[2]*7.3+model.params.iloc[3]*7.3\n",
        "print(y2-y1)"
      ],
      "metadata": {
        "colab": {
          "base_uri": "https://localhost:8080/"
        },
        "id": "HXMNn4D2Y2pF",
        "outputId": "ba768fca-770e-4d73-cb78-5669a448b471"
      },
      "execution_count": 63,
      "outputs": [
        {
          "output_type": "stream",
          "name": "stdout",
          "text": [
            "-0.08252585664851625\n"
          ]
        }
      ]
    },
    {
      "cell_type": "markdown",
      "metadata": {
        "id": "bfd_vEBkxUI9"
      },
      "source": [
        "4. **Control variables**\n",
        "   - Consider the following variables: (i) % of foreign-born population ($foreign\\_share$), (ii) death rate from typhoid ($typhoid\\_rate$), (iii) death rate from non-pulmonary tuberculosis ($np\\_tub\\_rate$), (iv) average temperature ($temperature$), and (v) average rainfall ($precipitation$). Is exclusion of these variables likely to lead to omitted variable bias? Explain your answer. It may be helpful to read Section IV(b) of the paper.\n",
        "   - Run the same regression in (3) again, this time including the additional five control variables above. Do your estimates on the $lead$ variable and its interaction with $ph$ change? Using the regression with the control variables included, test the null hypothesis that there is no relationship between lead pipes and infant mortality."
      ]
    },
    {
      "cell_type": "code",
      "source": [
        "model = smf.ols('infrate ~ lead + ph + lead * ph + foreign_share + typhoid_rate + np_tub_rate + temperature + precipitation', data=df).fit(cov_type='HC0')\n",
        "\n",
        "# Ver el resumen de los resultados\n",
        "print(model.summary())"
      ],
      "metadata": {
        "colab": {
          "base_uri": "https://localhost:8080/"
        },
        "id": "rZAwX2GhfcTd",
        "outputId": "149385c8-3a04-46a1-a0d0-548d55739f8e"
      },
      "execution_count": 83,
      "outputs": [
        {
          "output_type": "stream",
          "name": "stdout",
          "text": [
            "                            OLS Regression Results                            \n",
            "==============================================================================\n",
            "Dep. Variable:                infrate   R-squared:                       0.480\n",
            "Model:                            OLS   Adj. R-squared:                  0.454\n",
            "Method:                 Least Squares   F-statistic:                     17.54\n",
            "Date:                Fri, 14 Mar 2025   Prob (F-statistic):           1.04e-18\n",
            "Time:                        12:04:50   Log-Likelihood:                 137.41\n",
            "No. Observations:                 172   AIC:                            -256.8\n",
            "Df Residuals:                     163   BIC:                            -228.5\n",
            "Df Model:                           8                                         \n",
            "Covariance Type:                  HC0                                         \n",
            "=================================================================================\n",
            "                    coef    std err          z      P>|z|      [0.025      0.975]\n",
            "---------------------------------------------------------------------------------\n",
            "Intercept        -0.0962      0.183     -0.525      0.600      -0.456       0.263\n",
            "lead              0.4053      0.178      2.271      0.023       0.056       0.755\n",
            "ph               -0.0292      0.019     -1.533      0.125      -0.067       0.008\n",
            "lead:ph          -0.0506      0.024     -2.127      0.033      -0.097      -0.004\n",
            "foreign_share     0.3887      0.100      3.870      0.000       0.192       0.586\n",
            "typhoid_rate      1.3339      0.342      3.906      0.000       0.665       2.003\n",
            "np_tub_rate       1.6748      0.713      2.350      0.019       0.278       3.071\n",
            "temperature       0.0049      0.002      2.513      0.012       0.001       0.009\n",
            "precipitation     0.0818      0.020      4.053      0.000       0.042       0.121\n",
            "==============================================================================\n",
            "Omnibus:                        4.134   Durbin-Watson:                   1.876\n",
            "Prob(Omnibus):                  0.127   Jarque-Bera (JB):                3.963\n",
            "Skew:                           0.372   Prob(JB):                        0.138\n",
            "Kurtosis:                       3.016   Cond. No.                     4.38e+03\n",
            "==============================================================================\n",
            "\n",
            "Notes:\n",
            "[1] Standard Errors are heteroscedasticity robust (HC0)\n",
            "[2] The condition number is large, 4.38e+03. This might indicate that there are\n",
            "strong multicollinearity or other numerical problems.\n"
          ]
        }
      ]
    },
    {
      "cell_type": "code",
      "source": [
        "hypothesis = 'lead = 0'\n",
        "\n",
        "# Perform the t-test on the hypothesis\n",
        "t_test_result = model.t_test(hypothesis)\n",
        "\n",
        "# Display the test result\n",
        "print(t_test_result)"
      ],
      "metadata": {
        "colab": {
          "base_uri": "https://localhost:8080/"
        },
        "id": "kuIIuCAvgl8a",
        "outputId": "3c5fb2b9-5fb8-4b61-e5f8-641e9f3b499f"
      },
      "execution_count": 69,
      "outputs": [
        {
          "output_type": "stream",
          "name": "stdout",
          "text": [
            "                             Test for Constraints                             \n",
            "==============================================================================\n",
            "                 coef    std err          z      P>|z|      [0.025      0.975]\n",
            "------------------------------------------------------------------------------\n",
            "c0             0.4053      0.178      2.271      0.023       0.056       0.755\n",
            "==============================================================================\n"
          ]
        }
      ]
    },
    {
      "cell_type": "markdown",
      "metadata": {
        "id": "dz0od2HHxUI9"
      },
      "source": [
        "## Question 2: Bride Price and Female Education\n",
        "\n",
        "Ashraf, Bau, Nunn, and Voena (2020) show that the bride price, a payment made by the husband to the bride's family at marriage, is increasing in the bride's level of education. This creates an additional monetary incentive for parents to invest in their daughters' education. The authors use data from Indonesia and Zambia to show that the bride price custom increases the responsiveness of female education to policies that reduce the cost of schooling.\n",
        "\n",
        "In this question, we will replicate the descriptive results for Indonesia about the relationship between bride price and education levels.\n",
        "\n",
        "The following code imports a subset of the Indonesian data used in the paper."
      ]
    },
    {
      "cell_type": "code",
      "execution_count": 70,
      "metadata": {
        "id": "C_8jsba_xUI9",
        "colab": {
          "base_uri": "https://localhost:8080/"
        },
        "outputId": "2c2e5f90-1f6a-4c04-f31f-3b59135c17db"
      },
      "outputs": [
        {
          "output_type": "stream",
          "name": "stdout",
          "text": [
            "   log_dowry  elementary_plus  junior_plus  college ethnicity    year  \\\n",
            "0        NaN              0.0          0.0      0.0  Tionghoa  2007.0   \n",
            "1  10.203592              1.0          0.0      0.0      95.0  2007.0   \n",
            "2  13.091905              1.0          1.0      1.0    Minang  2007.0   \n",
            "3   9.210340              1.0          1.0      1.0    Minang  2007.0   \n",
            "4        NaN              1.0          1.0      0.0    Minang  2007.0   \n",
            "\n",
            "   mar_year  mar_age  husband_elementary  husband_junior  husband_college  \\\n",
            "0    1968.0      NaN                 0.0             0.0              0.0   \n",
            "1    1982.0     24.0                 1.0             1.0              0.0   \n",
            "2    2007.0      NaN                 1.0             1.0              1.0   \n",
            "3    1992.0     34.0                 0.0             0.0              0.0   \n",
            "4    2003.0     23.0                 1.0             1.0              1.0   \n",
            "\n",
            "   husband_mar_age  pre_marriage_asset  muslim  multiple_wives  \n",
            "0             48.0                 NaN     0.0             0.0  \n",
            "1             25.0                 0.0     1.0             0.0  \n",
            "2             29.0                 NaN     1.0             0.0  \n",
            "3             27.0                 NaN     1.0             0.0  \n",
            "4             30.0           1000000.0     1.0             0.0  \n"
          ]
        }
      ],
      "source": [
        "url = \"https://raw.githubusercontent.com/sdmcrae/econometrics/master/datasets/bride_price.csv\"\n",
        "df = pd.read_csv(url)\n",
        "print(df.head())"
      ]
    },
    {
      "cell_type": "markdown",
      "metadata": {
        "id": "uk3iEnMxxUI9"
      },
      "source": [
        "The variables are defined as follows:\n",
        "- **log_dowry**: The natural logarithm of the bride price payment received.\n",
        "- **elementary_plus**: Indicator variable (1 = yes, 0 = no) for whether the wife completed elementary school.\n",
        "- **junior_plus**: Indicator variable (1 = yes, 0 = no) for whether the wife completed junior secondary school.\n",
        "- **college**: Indicator variable (1 = yes, 0 = no) for whether the wife attended college.\n",
        "- **ethnicity**: The ethnic group of the wife.\n",
        "- **year**: The year of the IFLS survey round.\n",
        "- **mar_year**: The year the couple got married.\n",
        "- **mar_age**: The wife's age at the time of marriage.\n",
        "- **husband_elementary**: Indicator variable (1 = yes, 0 = no) for whether the husband completed elementary school.\n",
        "- **husband_junior**: Indicator variable (1 = yes, 0 = no) for whether the husband completed junior secondary school.\n",
        "- **husband_college**: Indicator variable (1 = yes, 0 = no) for whether the husband attended college.\n",
        "- **husband_mar_age**: The husband's age at the time of marriage.\n",
        "- **pre_marriage_asset**: A measure of the wife's premarital wealth.\n",
        "- **muslim**: Indicator variable (1 = yes, 0 = no) for whether the wife reports being Muslim.\n",
        "- **multiple_wives**: Indicator variable (1 = yes, 0 = no) for whether the marriage is polygynous (i.e., the husband has multiple wives)."
      ]
    },
    {
      "cell_type": "markdown",
      "metadata": {
        "id": "9BycY0dGxUI9"
      },
      "source": [
        "1. **Replication**\n",
        "   - Use this dataset to replicate the first five columns of **Table 4** in the paper.\n",
        "   - You will need to create the squared terms in the marriage year, the wife's and husband's age at marriage, and the log of (1 + the wife's pre-marriage assets).\n",
        "   - Observations from the Minang ethnic group should be dropped (why?).\n",
        "   - Please show your results in a correctly formatted table with one regression per column. An easy way to do with is with `etable` from the `pyfixest` package. See the minimum working example at this link: https://py-econometrics.github.io/pyfixest/table-layout.html."
      ]
    },
    {
      "cell_type": "markdown",
      "metadata": {
        "id": "qMbi43VZxUI9"
      },
      "source": [
        "2. **Interpretation of coefficients**\n",
        "   - Using the coefficients from Column 2, what is the effect on the bride price of a woman completing elementary school, relative to not completing elementary school?\n",
        "   - Again using the coefficients from Column 2, what is the effect on the bride price of a woman attending college, relative to not completing elementary school?\n",
        "   - Compare your answers to the interpretation of these coefficients in the paper (Page 613). What do you notice?"
      ]
    },
    {
      "cell_type": "markdown",
      "metadata": {
        "id": "nR0y6VBTxUI-"
      },
      "source": [
        "3. **Correlated regressors**\n",
        "   - Compare the estimated coefficients on the female education indicators in Columns 1 and 3 of your table. What happens to the standard errors for these coefficients between Columns 1 and 3?\n",
        "   - Explain the reason for the change in the estimated coefficients and their standard errors."
      ]
    },
    {
      "cell_type": "markdown",
      "metadata": {
        "id": "1x4PEjExxUI-"
      },
      "source": [
        "4. **Log transformations with zeros**\n",
        "   - What is the coefficient on the `log(1 + pre_marriage_asset)` variable in Column 5? Interpret this coefficient.\n",
        "   - It is common in applied work to add 1 to a variable before taking logs to avoid undefined values from taking the log of zero. Discuss the problems with this approach (you may want to search the internet or ask your favorite AI).\n",
        "   - An alternative approach to `log(1+x)` is to use the inverse hyperbolic sine transformation. Run the regression with the inverse hyperbolic sine of pre-marriage assets. Compare the coefficients to your answer above.\n",
        "   - Another alternative is to use `log(pre_marriage_asset)`, set the undefined values to zero, and add an indicator variable for \"zero pre-marriage assets\". Run the regression in Column 5 with these two variables instead of `log(1 + pre_marriage_asset)`. Interpret the coefficients.\n",
        "   - Create a scatter graph to show the relationship between `log(bride price)` and `log(pre_marriage_asset)` (setting undefined values to zero). What do you notice? Why is it better to use the third approach with the indicator variable?"
      ]
    }
  ],
  "metadata": {
    "colab": {
      "provenance": []
    },
    "kernelspec": {
      "display_name": "venv",
      "language": "python",
      "name": "python3"
    },
    "language_info": {
      "codemirror_mode": {
        "name": "ipython",
        "version": 3
      },
      "file_extension": ".py",
      "mimetype": "text/x-python",
      "name": "python",
      "nbconvert_exporter": "python",
      "pygments_lexer": "ipython3",
      "version": "3.12.8"
    }
  },
  "nbformat": 4,
  "nbformat_minor": 0
}