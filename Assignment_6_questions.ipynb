{
  "cells": [
    {
      "cell_type": "markdown",
      "metadata": {
        "id": "view-in-github",
        "colab_type": "text"
      },
      "source": [
        "<a href=\"https://colab.research.google.com/github/cramirezda/micro/blob/main/Assignment_6_questions.ipynb\" target=\"_parent\"><img src=\"https://colab.research.google.com/assets/colab-badge.svg\" alt=\"Open In Colab\"/></a>"
      ]
    },
    {
      "cell_type": "markdown",
      "metadata": {
        "id": "0QouW0jaYxhh"
      },
      "source": [
        "# ASSIGNMENT 6\n",
        "# *YOUR NAME*\n",
        "\n",
        "## ECO 50213: Advanced Microeconometrics\n",
        "## May 2, 2025\n",
        "\n",
        "Please complete your code and text answers in this notebook, then export the notebook to PDF format. Use the online submission feature of Canvas to upload your PDF before 6:00 p.m. on Friday, May 9.\n",
        "\n",
        "You are encouraged to work together on the assignments. AI tools may be used to assist in coding, debugging, or understanding concepts. However, the final submission must be your own work, written in your own words, and reflect your own understanding."
      ]
    },
    {
      "cell_type": "code",
      "execution_count": 1,
      "metadata": {
        "id": "RChtyxv9aEv9",
        "colab": {
          "base_uri": "https://localhost:8080/"
        },
        "outputId": "7cce6668-91b6-490e-8596-5f8b47fdcfee"
      },
      "outputs": [
        {
          "output_type": "stream",
          "name": "stdout",
          "text": [
            "Collecting pyfixest\n",
            "  Downloading pyfixest-0.29.0-py3-none-any.whl.metadata (24 kB)\n",
            "Collecting formulaic>=1.1.0 (from pyfixest)\n",
            "  Downloading formulaic-1.1.1-py3-none-any.whl.metadata (6.9 kB)\n",
            "Collecting great-tables>=0.10.0 (from pyfixest)\n",
            "  Downloading great_tables-0.17.0-py3-none-any.whl.metadata (12 kB)\n",
            "Requirement already satisfied: joblib<2,>=1.4.2 in /usr/local/lib/python3.11/dist-packages (from pyfixest) (1.4.2)\n",
            "Requirement already satisfied: narwhals>=1.13.3 in /usr/local/lib/python3.11/dist-packages (from pyfixest) (1.37.1)\n",
            "Requirement already satisfied: numba>=0.58.0 in /usr/local/lib/python3.11/dist-packages (from pyfixest) (0.60.0)\n",
            "Requirement already satisfied: numpy>=1.19.0 in /usr/local/lib/python3.11/dist-packages (from pyfixest) (2.0.2)\n",
            "Requirement already satisfied: pandas>=1.1.0 in /usr/local/lib/python3.11/dist-packages (from pyfixest) (2.2.2)\n",
            "Requirement already satisfied: scipy>=1.6 in /usr/local/lib/python3.11/dist-packages (from pyfixest) (1.15.2)\n",
            "Requirement already satisfied: seaborn>=0.13.2 in /usr/local/lib/python3.11/dist-packages (from pyfixest) (0.13.2)\n",
            "Requirement already satisfied: tabulate>=0.9.0 in /usr/local/lib/python3.11/dist-packages (from pyfixest) (0.9.0)\n",
            "Requirement already satisfied: tqdm>=4.0.0 in /usr/local/lib/python3.11/dist-packages (from pyfixest) (4.67.1)\n",
            "Collecting interface-meta>=1.2.0 (from formulaic>=1.1.0->pyfixest)\n",
            "  Downloading interface_meta-1.3.0-py3-none-any.whl.metadata (6.7 kB)\n",
            "Requirement already satisfied: typing-extensions>=4.2.0 in /usr/local/lib/python3.11/dist-packages (from formulaic>=1.1.0->pyfixest) (4.13.2)\n",
            "Requirement already satisfied: wrapt>=1.0 in /usr/local/lib/python3.11/dist-packages (from formulaic>=1.1.0->pyfixest) (1.17.2)\n",
            "Collecting commonmark>=0.9.1 (from great-tables>=0.10.0->pyfixest)\n",
            "  Downloading commonmark-0.9.1-py2.py3-none-any.whl.metadata (5.7 kB)\n",
            "Collecting faicons>=0.2.2 (from great-tables>=0.10.0->pyfixest)\n",
            "  Downloading faicons-0.2.2-py3-none-any.whl.metadata (1.8 kB)\n",
            "Collecting htmltools>=0.4.1 (from great-tables>=0.10.0->pyfixest)\n",
            "  Downloading htmltools-0.6.0-py3-none-any.whl.metadata (3.3 kB)\n",
            "Requirement already satisfied: importlib-metadata in /usr/local/lib/python3.11/dist-packages (from great-tables>=0.10.0->pyfixest) (8.7.0)\n",
            "Requirement already satisfied: Babel>=2.13.1 in /usr/local/lib/python3.11/dist-packages (from great-tables>=0.10.0->pyfixest) (2.17.0)\n",
            "Requirement already satisfied: importlib-resources in /usr/local/lib/python3.11/dist-packages (from great-tables>=0.10.0->pyfixest) (6.5.2)\n",
            "Requirement already satisfied: llvmlite<0.44,>=0.43.0dev0 in /usr/local/lib/python3.11/dist-packages (from numba>=0.58.0->pyfixest) (0.43.0)\n",
            "Requirement already satisfied: python-dateutil>=2.8.2 in /usr/local/lib/python3.11/dist-packages (from pandas>=1.1.0->pyfixest) (2.9.0.post0)\n",
            "Requirement already satisfied: pytz>=2020.1 in /usr/local/lib/python3.11/dist-packages (from pandas>=1.1.0->pyfixest) (2025.2)\n",
            "Requirement already satisfied: tzdata>=2022.7 in /usr/local/lib/python3.11/dist-packages (from pandas>=1.1.0->pyfixest) (2025.2)\n",
            "Requirement already satisfied: matplotlib!=3.6.1,>=3.4 in /usr/local/lib/python3.11/dist-packages (from seaborn>=0.13.2->pyfixest) (3.10.0)\n",
            "Requirement already satisfied: packaging>=20.9 in /usr/local/lib/python3.11/dist-packages (from htmltools>=0.4.1->great-tables>=0.10.0->pyfixest) (24.2)\n",
            "Requirement already satisfied: contourpy>=1.0.1 in /usr/local/lib/python3.11/dist-packages (from matplotlib!=3.6.1,>=3.4->seaborn>=0.13.2->pyfixest) (1.3.2)\n",
            "Requirement already satisfied: cycler>=0.10 in /usr/local/lib/python3.11/dist-packages (from matplotlib!=3.6.1,>=3.4->seaborn>=0.13.2->pyfixest) (0.12.1)\n",
            "Requirement already satisfied: fonttools>=4.22.0 in /usr/local/lib/python3.11/dist-packages (from matplotlib!=3.6.1,>=3.4->seaborn>=0.13.2->pyfixest) (4.57.0)\n",
            "Requirement already satisfied: kiwisolver>=1.3.1 in /usr/local/lib/python3.11/dist-packages (from matplotlib!=3.6.1,>=3.4->seaborn>=0.13.2->pyfixest) (1.4.8)\n",
            "Requirement already satisfied: pillow>=8 in /usr/local/lib/python3.11/dist-packages (from matplotlib!=3.6.1,>=3.4->seaborn>=0.13.2->pyfixest) (11.2.1)\n",
            "Requirement already satisfied: pyparsing>=2.3.1 in /usr/local/lib/python3.11/dist-packages (from matplotlib!=3.6.1,>=3.4->seaborn>=0.13.2->pyfixest) (3.2.3)\n",
            "Requirement already satisfied: six>=1.5 in /usr/local/lib/python3.11/dist-packages (from python-dateutil>=2.8.2->pandas>=1.1.0->pyfixest) (1.17.0)\n",
            "Requirement already satisfied: zipp>=3.20 in /usr/local/lib/python3.11/dist-packages (from importlib-metadata->great-tables>=0.10.0->pyfixest) (3.21.0)\n",
            "Downloading pyfixest-0.29.0-py3-none-any.whl (2.2 MB)\n",
            "\u001b[2K   \u001b[90m━━━━━━━━━━━━━━━━━━━━━━━━━━━━━━━━━━━━━━━━\u001b[0m \u001b[32m2.2/2.2 MB\u001b[0m \u001b[31m18.0 MB/s\u001b[0m eta \u001b[36m0:00:00\u001b[0m\n",
            "\u001b[?25hDownloading formulaic-1.1.1-py3-none-any.whl (115 kB)\n",
            "\u001b[2K   \u001b[90m━━━━━━━━━━━━━━━━━━━━━━━━━━━━━━━━━━━━━━━━\u001b[0m \u001b[32m115.7/115.7 kB\u001b[0m \u001b[31m6.4 MB/s\u001b[0m eta \u001b[36m0:00:00\u001b[0m\n",
            "\u001b[?25hDownloading great_tables-0.17.0-py3-none-any.whl (1.4 MB)\n",
            "\u001b[2K   \u001b[90m━━━━━━━━━━━━━━━━━━━━━━━━━━━━━━━━━━━━━━━━\u001b[0m \u001b[32m1.4/1.4 MB\u001b[0m \u001b[31m21.4 MB/s\u001b[0m eta \u001b[36m0:00:00\u001b[0m\n",
            "\u001b[?25hDownloading commonmark-0.9.1-py2.py3-none-any.whl (51 kB)\n",
            "\u001b[2K   \u001b[90m━━━━━━━━━━━━━━━━━━━━━━━━━━━━━━━━━━━━━━━━\u001b[0m \u001b[32m51.1/51.1 kB\u001b[0m \u001b[31m2.9 MB/s\u001b[0m eta \u001b[36m0:00:00\u001b[0m\n",
            "\u001b[?25hDownloading faicons-0.2.2-py3-none-any.whl (607 kB)\n",
            "\u001b[2K   \u001b[90m━━━━━━━━━━━━━━━━━━━━━━━━━━━━━━━━━━━━━━━━\u001b[0m \u001b[32m607.2/607.2 kB\u001b[0m \u001b[31m30.2 MB/s\u001b[0m eta \u001b[36m0:00:00\u001b[0m\n",
            "\u001b[?25hDownloading htmltools-0.6.0-py3-none-any.whl (84 kB)\n",
            "\u001b[2K   \u001b[90m━━━━━━━━━━━━━━━━━━━━━━━━━━━━━━━━━━━━━━━━\u001b[0m \u001b[32m85.0/85.0 kB\u001b[0m \u001b[31m4.7 MB/s\u001b[0m eta \u001b[36m0:00:00\u001b[0m\n",
            "\u001b[?25hDownloading interface_meta-1.3.0-py3-none-any.whl (14 kB)\n",
            "Installing collected packages: commonmark, interface-meta, htmltools, faicons, great-tables, formulaic, pyfixest\n",
            "Successfully installed commonmark-0.9.1 faicons-0.2.2 formulaic-1.1.1 great-tables-0.17.0 htmltools-0.6.0 interface-meta-1.3.0 pyfixest-0.29.0\n"
          ]
        }
      ],
      "source": [
        "import pandas as pd\n",
        "import numpy as np\n",
        "!pip install pyfixest\n",
        "import pyfixest as pf\n",
        "from pyfixest import feols"
      ]
    },
    {
      "cell_type": "code",
      "source": [
        "pip install --upgrade pyfixest"
      ],
      "metadata": {
        "id": "MCIK-QAVuDiW",
        "outputId": "3d85b428-9e20-4120-816a-8599328bcbee",
        "colab": {
          "base_uri": "https://localhost:8080/"
        }
      },
      "execution_count": 79,
      "outputs": [
        {
          "output_type": "stream",
          "name": "stdout",
          "text": [
            "Requirement already satisfied: pyfixest in /usr/local/lib/python3.11/dist-packages (0.29.0)\n",
            "Requirement already satisfied: formulaic>=1.1.0 in /usr/local/lib/python3.11/dist-packages (from pyfixest) (1.1.1)\n",
            "Requirement already satisfied: great-tables>=0.10.0 in /usr/local/lib/python3.11/dist-packages (from pyfixest) (0.17.0)\n",
            "Requirement already satisfied: joblib<2,>=1.4.2 in /usr/local/lib/python3.11/dist-packages (from pyfixest) (1.4.2)\n",
            "Requirement already satisfied: narwhals>=1.13.3 in /usr/local/lib/python3.11/dist-packages (from pyfixest) (1.37.1)\n",
            "Requirement already satisfied: numba>=0.58.0 in /usr/local/lib/python3.11/dist-packages (from pyfixest) (0.60.0)\n",
            "Requirement already satisfied: numpy>=1.19.0 in /usr/local/lib/python3.11/dist-packages (from pyfixest) (2.0.2)\n",
            "Requirement already satisfied: pandas>=1.1.0 in /usr/local/lib/python3.11/dist-packages (from pyfixest) (2.2.2)\n",
            "Requirement already satisfied: scipy>=1.6 in /usr/local/lib/python3.11/dist-packages (from pyfixest) (1.15.2)\n",
            "Requirement already satisfied: seaborn>=0.13.2 in /usr/local/lib/python3.11/dist-packages (from pyfixest) (0.13.2)\n",
            "Requirement already satisfied: tabulate>=0.9.0 in /usr/local/lib/python3.11/dist-packages (from pyfixest) (0.9.0)\n",
            "Requirement already satisfied: tqdm>=4.0.0 in /usr/local/lib/python3.11/dist-packages (from pyfixest) (4.67.1)\n",
            "Requirement already satisfied: interface-meta>=1.2.0 in /usr/local/lib/python3.11/dist-packages (from formulaic>=1.1.0->pyfixest) (1.3.0)\n",
            "Requirement already satisfied: typing-extensions>=4.2.0 in /usr/local/lib/python3.11/dist-packages (from formulaic>=1.1.0->pyfixest) (4.13.2)\n",
            "Requirement already satisfied: wrapt>=1.0 in /usr/local/lib/python3.11/dist-packages (from formulaic>=1.1.0->pyfixest) (1.17.2)\n",
            "Requirement already satisfied: commonmark>=0.9.1 in /usr/local/lib/python3.11/dist-packages (from great-tables>=0.10.0->pyfixest) (0.9.1)\n",
            "Requirement already satisfied: faicons>=0.2.2 in /usr/local/lib/python3.11/dist-packages (from great-tables>=0.10.0->pyfixest) (0.2.2)\n",
            "Requirement already satisfied: htmltools>=0.4.1 in /usr/local/lib/python3.11/dist-packages (from great-tables>=0.10.0->pyfixest) (0.6.0)\n",
            "Requirement already satisfied: importlib-metadata in /usr/local/lib/python3.11/dist-packages (from great-tables>=0.10.0->pyfixest) (8.7.0)\n",
            "Requirement already satisfied: Babel>=2.13.1 in /usr/local/lib/python3.11/dist-packages (from great-tables>=0.10.0->pyfixest) (2.17.0)\n",
            "Requirement already satisfied: importlib-resources in /usr/local/lib/python3.11/dist-packages (from great-tables>=0.10.0->pyfixest) (6.5.2)\n",
            "Requirement already satisfied: llvmlite<0.44,>=0.43.0dev0 in /usr/local/lib/python3.11/dist-packages (from numba>=0.58.0->pyfixest) (0.43.0)\n",
            "Requirement already satisfied: python-dateutil>=2.8.2 in /usr/local/lib/python3.11/dist-packages (from pandas>=1.1.0->pyfixest) (2.9.0.post0)\n",
            "Requirement already satisfied: pytz>=2020.1 in /usr/local/lib/python3.11/dist-packages (from pandas>=1.1.0->pyfixest) (2025.2)\n",
            "Requirement already satisfied: tzdata>=2022.7 in /usr/local/lib/python3.11/dist-packages (from pandas>=1.1.0->pyfixest) (2025.2)\n",
            "Requirement already satisfied: matplotlib!=3.6.1,>=3.4 in /usr/local/lib/python3.11/dist-packages (from seaborn>=0.13.2->pyfixest) (3.10.0)\n",
            "Requirement already satisfied: packaging>=20.9 in /usr/local/lib/python3.11/dist-packages (from htmltools>=0.4.1->great-tables>=0.10.0->pyfixest) (24.2)\n",
            "Requirement already satisfied: contourpy>=1.0.1 in /usr/local/lib/python3.11/dist-packages (from matplotlib!=3.6.1,>=3.4->seaborn>=0.13.2->pyfixest) (1.3.2)\n",
            "Requirement already satisfied: cycler>=0.10 in /usr/local/lib/python3.11/dist-packages (from matplotlib!=3.6.1,>=3.4->seaborn>=0.13.2->pyfixest) (0.12.1)\n",
            "Requirement already satisfied: fonttools>=4.22.0 in /usr/local/lib/python3.11/dist-packages (from matplotlib!=3.6.1,>=3.4->seaborn>=0.13.2->pyfixest) (4.57.0)\n",
            "Requirement already satisfied: kiwisolver>=1.3.1 in /usr/local/lib/python3.11/dist-packages (from matplotlib!=3.6.1,>=3.4->seaborn>=0.13.2->pyfixest) (1.4.8)\n",
            "Requirement already satisfied: pillow>=8 in /usr/local/lib/python3.11/dist-packages (from matplotlib!=3.6.1,>=3.4->seaborn>=0.13.2->pyfixest) (11.2.1)\n",
            "Requirement already satisfied: pyparsing>=2.3.1 in /usr/local/lib/python3.11/dist-packages (from matplotlib!=3.6.1,>=3.4->seaborn>=0.13.2->pyfixest) (3.2.3)\n",
            "Requirement already satisfied: six>=1.5 in /usr/local/lib/python3.11/dist-packages (from python-dateutil>=2.8.2->pandas>=1.1.0->pyfixest) (1.17.0)\n",
            "Requirement already satisfied: zipp>=3.20 in /usr/local/lib/python3.11/dist-packages (from importlib-metadata->great-tables>=0.10.0->pyfixest) (3.21.0)\n"
          ]
        }
      ]
    },
    {
      "cell_type": "markdown",
      "metadata": {
        "id": "0Qs5_c6MaP_t"
      },
      "source": [
        "## Question 1: Concealed weapons and crime\n",
        "\n",
        "This exercise expands on the analysis of gun laws in the United States by the economist John Lott in his influential and controversial book, *More Guns, Less Crime*. Lott claims that rates of violent crime go down when states pass \"shall issue\" concealed carry laws. These laws instruct local authorities to issue a concealed weapons permit to all applicants, with limited restrictions. Lott argues that these laws deter violent crime because criminals are less willing to attack someone who might be carrying a concealed weapon.\n",
        "\n",
        "The following code imports the dataset `guns`. Each observation in the dataset is a state ($stateid$) and year ($year$). The main regressor of interest is the dummy variable $shall$, which is equal to 1 if the state has a concealed carry law in a particular year. The dependent variable is $\\log(vio)$, the log of the violent crime rate in the state and year."
      ]
    },
    {
      "cell_type": "code",
      "execution_count": 2,
      "metadata": {
        "id": "Ru51GzOhrM1p",
        "outputId": "9ed284c9-6e05-4247-b33a-f865ca3bdf89",
        "colab": {
          "base_uri": "https://localhost:8080/"
        }
      },
      "outputs": [
        {
          "output_type": "stream",
          "name": "stdout",
          "text": [
            "   year    vio   mur    rob  incarc_rate    pb1064    pw1064    pm1029  \\\n",
            "0    77  414.4  14.2   96.8           83  8.384873  55.12291  18.17441   \n",
            "1    78  419.1  13.3   99.1           94  8.352101  55.14367  17.99408   \n",
            "2    79  413.3  13.2  109.5          144  8.329575  55.13586  17.83934   \n",
            "3    80  448.5  13.2  132.1          141  8.408386  54.91259  17.73420   \n",
            "4    81  470.5  11.9  126.5          149  8.483435  54.92513  17.67372   \n",
            "\n",
            "        pop    avginc   density  stateid  shall  \n",
            "0  3.780403  9.563148  0.074552        1      0  \n",
            "1  3.831838  9.932000  0.075567        1      0  \n",
            "2  3.866248  9.877028  0.076245        1      0  \n",
            "3  3.900368  9.541428  0.076829        1      0  \n",
            "4  3.918531  9.548351  0.077187        1      0  \n"
          ]
        }
      ],
      "source": [
        "# Load data\n",
        "url = \"https://raw.githubusercontent.com/sdmcrae/econometrics/master/datasets/guns.csv\"\n",
        "\n",
        "df = pd.read_csv(url)\n",
        "print(df.head())"
      ]
    },
    {
      "cell_type": "code",
      "source": [
        "df['logvio']=np.log(df['vio'])"
      ],
      "metadata": {
        "id": "za85hOviU8GW"
      },
      "execution_count": 3,
      "outputs": []
    },
    {
      "cell_type": "markdown",
      "metadata": {
        "id": "7v8WV4kFrM1q"
      },
      "source": [
        "The variables in this dataset are:\n",
        "- $year$: Year (1977-1999)\n",
        "- $vio$: violent crime rate (incidents per 100,000 members of the population)\n",
        "- $mur$: murder rate (incidents per 100,000)\n",
        "- $rob$: robbery rate (incidents per 100,000)\n",
        "- $incarc\\_rate$: incarceration rate in the state in the previous year (sentenced prisoners per 100,000 residents; value for the previous year)\n",
        "- $pm1029$: percent of state population that is male, ages 10 to 29\n",
        "- $pw1064$: percent of state population that is white, ages 10 to 64\n",
        "- $pb1064$: percent of state population that is black, ages 10 to 64\n",
        "- $pop$: state population, in millions of people\n",
        "- $avginc$: real per capita personal income in the state, in thousands of dollars\n",
        "- $density$: population per square mile of land area, divided by 1000\n",
        "- $stateid$: ID number of states (Alabama = 1, Alaska = 2, etc.)\n",
        "- $shall$: 1 if the state has a shall-carry law in effect in that year, otherwise 0\n",
        "\n",
        "You will estimate six different models for the effect of concealed carry laws on $\\log(vio)$. Use `pf.feols` to run these regressions, then `etable` to report all of these results in a single regression table, with one column for each model. Use heteroskedasticity-consistent standard errors for the first five regressions. In the final regression, you will see the effect of clustering the standard errors by state."
      ]
    },
    {
      "cell_type": "markdown",
      "metadata": {
        "id": "5oKBZQAerM1q"
      },
      "source": [
        "1. **Pooled estimator**\n",
        "\n",
        "   - Regress $\\log(vio)$ on $shall$:\n",
        "   \n",
        "     \\begin{align*}\n",
        "     \\log(vio_{it}) &= \\beta_0 + \\beta_1 shall_{it} + u_{it}\n",
        "     \\end{align*}\n",
        "\n",
        "   - For panel data, this regression is known as the **pooled estimator**, because it estimates the standard OLS model with no fixed effects. Report your results in Column 1 of your regression table.\n",
        "   - What is your interpretation of $\\hat{\\beta}_1$ for this regression?"
      ]
    },
    {
      "cell_type": "code",
      "source": [
        "# Supongamos que ya tienes un DataFrame llamado df con las columnas 'y' y 'x'\n",
        "model_ols1 = feols('logvio ~ shall', data=df)\n",
        "print(model_ols1.summary())\n"
      ],
      "metadata": {
        "colab": {
          "base_uri": "https://localhost:8080/"
        },
        "id": "xMKFr4tTRcKn",
        "outputId": "5cfa7c03-185d-434b-9b40-791fc0f2b784"
      },
      "execution_count": 4,
      "outputs": [
        {
          "output_type": "stream",
          "name": "stdout",
          "text": [
            "###\n",
            "\n",
            "Estimation:  OLS\n",
            "Dep. var.: logvio, Fixed effects: 0\n",
            "Inference:  iid\n",
            "Observations:  1173\n",
            "\n",
            "| Coefficient   |   Estimate |   Std. Error |   t value |   Pr(>|t|) |   2.5% |   97.5% |\n",
            "|:--------------|-----------:|-------------:|----------:|-----------:|-------:|--------:|\n",
            "| Intercept     |      6.135 |        0.021 |   296.130 |      0.000 |  6.094 |   6.176 |\n",
            "| shall         |     -0.443 |        0.042 |   -10.539 |      0.000 | -0.525 |  -0.361 |\n",
            "---\n",
            "RMSE: 0.617 R2: 0.087 \n",
            "None\n"
          ]
        }
      ]
    },
    {
      "cell_type": "markdown",
      "metadata": {
        "id": "VpE3-Tj7rM1q"
      },
      "source": [
        "2. **Pooled estimator with control variables**\n",
        "\n",
        "   - Repeat your regression from (1), with additional control variables: $incarc\\_rate$ (incarceration rate), $density$ (population density), and $avginc$ (average income):\n",
        "\n",
        "     \\begin{align*}\n",
        "     \\log(vio_{it}) &= \\beta_0 + \\beta_1 shall_{it} + \\beta_2 incarc\\_rate_{it} + \\beta_3 density_{it} + \\beta_4 avginv_{it} + u_{it}\n",
        "     \\end{align*}\n",
        "\n",
        "   - Report your results in Column 2 of your regression table.\n",
        "   - Does adding the control variables change the estimated effect of a shall-issue law from regression (1)?\n",
        "   - Suggest a variable that varies across states but plausibly varies little over time and that could cause omitted variable bias in regression (2)."
      ]
    },
    {
      "cell_type": "code",
      "source": [
        "# Ahora añadimos dos variables de control z1 y z2\n",
        "model_ols_ctrl = feols('logvio ~ shall + incarc_rate + avginc', data=df)\n",
        "print(model_ols_ctrl.summary())\n"
      ],
      "metadata": {
        "colab": {
          "base_uri": "https://localhost:8080/"
        },
        "id": "AOV14KWiVhjK",
        "outputId": "f0402c48-516b-44fa-ac49-698763c6b645"
      },
      "execution_count": 5,
      "outputs": [
        {
          "output_type": "stream",
          "name": "stdout",
          "text": [
            "###\n",
            "\n",
            "Estimation:  OLS\n",
            "Dep. var.: logvio, Fixed effects: 0\n",
            "Inference:  iid\n",
            "Observations:  1173\n",
            "\n",
            "| Coefficient   |   Estimate |   Std. Error |   t value |   Pr(>|t|) |   2.5% |   97.5% |\n",
            "|:--------------|-----------:|-------------:|----------:|-----------:|-------:|--------:|\n",
            "| Intercept     |      5.296 |        0.080 |    65.886 |      0.000 |  5.139 |   5.454 |\n",
            "| shall         |     -0.477 |        0.033 |   -14.401 |      0.000 | -0.541 |  -0.412 |\n",
            "| incarc_rate   |      0.002 |        0.000 |    21.248 |      0.000 |  0.002 |   0.002 |\n",
            "| avginc        |      0.030 |        0.006 |     4.842 |      0.000 |  0.018 |   0.043 |\n",
            "---\n",
            "RMSE: 0.485 R2: 0.436 \n",
            "None\n"
          ]
        }
      ]
    },
    {
      "cell_type": "markdown",
      "metadata": {
        "id": "alVjrUFTrM1r"
      },
      "source": [
        "3. **State fixed effects**\n",
        "\n",
        "   - Repeat your regression from (2), this time with the addition of state fixed effects:\n",
        "\n",
        "     \\begin{align*}\n",
        "     \\log(vio_{it}) &= \\beta_0 + \\beta_1 shall_{it} + \\beta_2 incarc\\_rate_{it} + \\beta_3 density_{it} + \\beta_4 avginv_{it} + \\alpha_i + u_{it}\n",
        "     \\end{align*}\n",
        "\n",
        "   - Report your results in Column 3 of your regression table.\n",
        "   - Do you find a difference in your estimate of $\\beta_1$ compared to the pooled regressions (1) and (2)? What does this result imply about whether or not the $\\alpha_i$ terms are distributed independently of the other regressors?"
      ]
    },
    {
      "cell_type": "code",
      "source": [
        "# Efectos fijos por región (supón que df tiene una columna 'region')\n",
        "model_fe_region = feols('logvio ~ shall + incarc_rate + density + avginc | stateid', data=df)\n",
        "print(model_fe_region.summary())\n"
      ],
      "metadata": {
        "colab": {
          "base_uri": "https://localhost:8080/"
        },
        "id": "ILeyZ6TTV0Wl",
        "outputId": "c4532aa1-9640-4292-814c-6da8875cb012"
      },
      "execution_count": 6,
      "outputs": [
        {
          "output_type": "stream",
          "name": "stdout",
          "text": [
            "###\n",
            "\n",
            "Estimation:  OLS\n",
            "Dep. var.: logvio, Fixed effects: stateid\n",
            "Inference:  CRV1\n",
            "Observations:  1173\n",
            "\n",
            "| Coefficient   |   Estimate |   Std. Error |   t value |   Pr(>|t|) |   2.5% |   97.5% |\n",
            "|:--------------|-----------:|-------------:|----------:|-----------:|-------:|--------:|\n",
            "| shall         |      0.021 |        0.041 |     0.525 |      0.602 | -0.061 |   0.103 |\n",
            "| incarc_rate   |      0.000 |        0.000 |     1.934 |      0.059 | -0.000 |   0.001 |\n",
            "| density       |      0.161 |        0.091 |     1.760 |      0.084 | -0.023 |   0.345 |\n",
            "| avginc        |      0.020 |        0.013 |     1.487 |      0.143 | -0.007 |   0.047 |\n",
            "---\n",
            "RMSE: 0.165 R2: 0.935 R2 Within: 0.133 \n",
            "None\n"
          ]
        }
      ]
    },
    {
      "cell_type": "code",
      "source": [
        "model_fe_region.summary().table[1]"
      ],
      "metadata": {
        "id": "EKozqxjzrwNq",
        "outputId": "a5c52fec-a55a-48db-c191-d595748fa009",
        "colab": {
          "base_uri": "https://localhost:8080/",
          "height": 401
        }
      },
      "execution_count": 60,
      "outputs": [
        {
          "output_type": "stream",
          "name": "stdout",
          "text": [
            "###\n",
            "\n",
            "Estimation:  OLS\n",
            "Dep. var.: logvio, Fixed effects: stateid\n",
            "Inference:  CRV1\n",
            "Observations:  1173\n",
            "\n",
            "| Coefficient   |   Estimate |   Std. Error |   t value |   Pr(>|t|) |   2.5% |   97.5% |\n",
            "|:--------------|-----------:|-------------:|----------:|-----------:|-------:|--------:|\n",
            "| shall         |      0.021 |        0.041 |     0.525 |      0.602 | -0.061 |   0.103 |\n",
            "| incarc_rate   |      0.000 |        0.000 |     1.934 |      0.059 | -0.000 |   0.001 |\n",
            "| density       |      0.161 |        0.091 |     1.760 |      0.084 | -0.023 |   0.345 |\n",
            "| avginc        |      0.020 |        0.013 |     1.487 |      0.143 | -0.007 |   0.047 |\n",
            "---\n",
            "RMSE: 0.165 R2: 0.935 R2 Within: 0.133 \n"
          ]
        },
        {
          "output_type": "error",
          "ename": "AttributeError",
          "evalue": "'NoneType' object has no attribute 'table'",
          "traceback": [
            "\u001b[0;31m---------------------------------------------------------------------------\u001b[0m",
            "\u001b[0;31mAttributeError\u001b[0m                            Traceback (most recent call last)",
            "\u001b[0;32m<ipython-input-60-70b7e5870ae0>\u001b[0m in \u001b[0;36m<cell line: 0>\u001b[0;34m()\u001b[0m\n\u001b[0;32m----> 1\u001b[0;31m \u001b[0mmodel_fe_region\u001b[0m\u001b[0;34m.\u001b[0m\u001b[0msummary\u001b[0m\u001b[0;34m(\u001b[0m\u001b[0;34m)\u001b[0m\u001b[0;34m.\u001b[0m\u001b[0mtable\u001b[0m\u001b[0;34m[\u001b[0m\u001b[0;36m1\u001b[0m\u001b[0;34m]\u001b[0m\u001b[0;34m\u001b[0m\u001b[0;34m\u001b[0m\u001b[0m\n\u001b[0m",
            "\u001b[0;31mAttributeError\u001b[0m: 'NoneType' object has no attribute 'table'"
          ]
        }
      ]
    },
    {
      "cell_type": "markdown",
      "metadata": {
        "id": "1Rw9qt0ArM1r"
      },
      "source": [
        "4. **Time fixed effects**\n",
        "\n",
        "   - Repeat your regression from (2), this time with the addition of time fixed effects instead of state fixed effects:\n",
        "\n",
        "     \\begin{align*}\n",
        "     \\log(vio_{it}) &= \\beta_0 + \\beta_1 shall_{it} + \\beta_2 incarc\\_rate_{it} + \\beta_3 density_{it} + \\beta_4 avginv_{it} + \\lambda_t + u_{it}\n",
        "     \\end{align*}\n",
        "\n",
        "   - Report your results in Column 4 of your regression table.\n",
        "   - Do you find a difference in your estimate of $\\beta_1$ compared to the pooled regressions (1) and (2)? What does this result imply about whether or not the $\\lambda_t$ terms are distributed independently of the other regressors?"
      ]
    },
    {
      "cell_type": "code",
      "source": [
        "# Efectos fijos por año (digamos que df tiene una columna 'year')\n",
        "model_fe_time = feols('logvio ~ shall + incarc_rate + density + avginc | year', data=df)\n",
        "print(model_fe_time.summary())\n"
      ],
      "metadata": {
        "colab": {
          "base_uri": "https://localhost:8080/"
        },
        "id": "qhXXdyOvXKgQ",
        "outputId": "1002aa9a-c0d1-49d5-9d00-a5ca46a850ad"
      },
      "execution_count": 7,
      "outputs": [
        {
          "output_type": "stream",
          "name": "stdout",
          "text": [
            "###\n",
            "\n",
            "Estimation:  OLS\n",
            "Dep. var.: logvio, Fixed effects: year\n",
            "Inference:  CRV1\n",
            "Observations:  1173\n",
            "\n",
            "| Coefficient   |   Estimate |   Std. Error |   t value |   Pr(>|t|) |   2.5% |   97.5% |\n",
            "|:--------------|-----------:|-------------:|----------:|-----------:|-------:|--------:|\n",
            "| shall         |     -0.343 |        0.027 |   -12.782 |      0.000 | -0.399 |  -0.287 |\n",
            "| incarc_rate   |      0.002 |        0.000 |    13.075 |      0.000 |  0.002 |   0.003 |\n",
            "| density       |     -0.048 |        0.021 |    -2.237 |      0.036 | -0.092 |  -0.003 |\n",
            "| avginc        |      0.060 |        0.007 |     8.728 |      0.000 |  0.046 |   0.075 |\n",
            "---\n",
            "RMSE: 0.466 R2: 0.479 R2 Within: 0.463 \n",
            "None\n"
          ]
        }
      ]
    },
    {
      "cell_type": "markdown",
      "metadata": {
        "id": "wz23eSRQrM1r"
      },
      "source": [
        "5. **Two-way fixed effects**\n",
        "\n",
        "   - Repeat your regression from (2), this time with the addition of state and time fixed effects:\n",
        "\n",
        "     \\begin{align*}\n",
        "     \\log(vio_{it}) &= \\beta_0 + \\beta_1 shall_{it} + \\beta_2 incarc\\_rate_{it} + \\beta_3 density_{it} + \\beta_4 avginv_{it} + \\alpha_i + \\lambda_t + u_{it}\n",
        "     \\end{align*}\n",
        "\n",
        "   - Report your results in Column 5 of your regression table.\n",
        "   - Do you find a difference in your estimate of $\\beta_1$ compared to the pooled regressions (1) and (2)?"
      ]
    },
    {
      "cell_type": "code",
      "source": [
        "# Efectos fijos por año (digamos que df tiene una columna 'year')\n",
        "model_fe_time = feols('logvio ~ shall + incarc_rate + density + avginc | stateid + year', data=df)\n",
        "print(model_fe_time.summary())\n"
      ],
      "metadata": {
        "colab": {
          "base_uri": "https://localhost:8080/"
        },
        "id": "mt0S45O7Xjmo",
        "outputId": "506d83e7-ecc4-4f8e-b4d3-4f40903dc6f2"
      },
      "execution_count": 8,
      "outputs": [
        {
          "output_type": "stream",
          "name": "stdout",
          "text": [
            "###\n",
            "\n",
            "Estimation:  OLS\n",
            "Dep. var.: logvio, Fixed effects: stateid+year\n",
            "Inference:  CRV1\n",
            "Observations:  1173\n",
            "\n",
            "| Coefficient   |   Estimate |   Std. Error |   t value |   Pr(>|t|) |   2.5% |   97.5% |\n",
            "|:--------------|-----------:|-------------:|----------:|-----------:|-------:|--------:|\n",
            "| shall         |      0.006 |        0.040 |     0.147 |      0.884 | -0.075 |   0.087 |\n",
            "| incarc_rate   |     -0.000 |        0.000 |    -0.039 |      0.969 | -0.001 |   0.000 |\n",
            "| density       |     -0.057 |        0.134 |    -0.425 |      0.673 | -0.326 |   0.212 |\n",
            "| avginc        |      0.005 |        0.015 |     0.349 |      0.729 | -0.024 |   0.035 |\n",
            "---\n",
            "RMSE: 0.139 R2: 0.954 R2 Within: 0.002 \n",
            "None\n"
          ]
        }
      ]
    },
    {
      "cell_type": "markdown",
      "metadata": {
        "id": "ww_Q8CAerM1r"
      },
      "source": [
        "6. **Two-way fixed effects with clustered standard errors**\n",
        "\n",
        "   - Repeat your regression from (5), but cluster your standard errors by state.\n",
        "   - Report your results in Column 6 of your regression table.\n",
        "   - What happens to your standard errors when you cluster by state?"
      ]
    },
    {
      "cell_type": "code",
      "source": [
        "# Efectos fijos por año (digamos que df tiene una columna 'year')\n",
        "model_fe_time = feols('logvio ~ shall + incarc_rate + density + avginc | stateid + year', data=df,vcov={\"CRV1\": \"stateid\"})\n",
        "print(model_fe_time.summary())\n"
      ],
      "metadata": {
        "colab": {
          "base_uri": "https://localhost:8080/"
        },
        "id": "1zIPq89wZO67",
        "outputId": "eda53cb8-b46b-473e-fe44-9996d3571aed"
      },
      "execution_count": 9,
      "outputs": [
        {
          "output_type": "stream",
          "name": "stdout",
          "text": [
            "###\n",
            "\n",
            "Estimation:  OLS\n",
            "Dep. var.: logvio, Fixed effects: stateid+year\n",
            "Inference:  CRV1\n",
            "Observations:  1173\n",
            "\n",
            "| Coefficient   |   Estimate |   Std. Error |   t value |   Pr(>|t|) |   2.5% |   97.5% |\n",
            "|:--------------|-----------:|-------------:|----------:|-----------:|-------:|--------:|\n",
            "| shall         |      0.006 |        0.040 |     0.147 |      0.884 | -0.075 |   0.087 |\n",
            "| incarc_rate   |     -0.000 |        0.000 |    -0.039 |      0.969 | -0.001 |   0.000 |\n",
            "| density       |     -0.057 |        0.134 |    -0.425 |      0.673 | -0.326 |   0.212 |\n",
            "| avginc        |      0.005 |        0.015 |     0.349 |      0.729 | -0.024 |   0.035 |\n",
            "---\n",
            "RMSE: 0.139 R2: 0.954 R2 Within: 0.002 \n",
            "None\n"
          ]
        }
      ]
    },
    {
      "cell_type": "code",
      "source": [],
      "metadata": {
        "id": "PEQfJouyyxVK"
      },
      "execution_count": null,
      "outputs": []
    },
    {
      "cell_type": "markdown",
      "metadata": {
        "id": "UH2JNpT_rM1s"
      },
      "source": [
        "7. **Conclusion**\n",
        "\n",
        "   - Based on your analysis, what conclusions would you draw about the effects of concealed weapons laws on crime rates? Does the data support Lott's argument that more guns leads to less crime?"
      ]
    },
    {
      "cell_type": "markdown",
      "metadata": {
        "id": "ZihjfyfKrM1s"
      },
      "source": [
        "## Question 2: Monte Carlo study of clustered standard errors in panel data\n",
        "\n",
        "We mentioned in the lectures that **cluster‑robust standard errors** can be unreliable when the number of clusters is small. The goal of this Monte Carlo exercise is to measure the empirical size of the 5% two‑sided test of $H_0: \\beta = 0$ in a simple panel‑data model, varying only:\n",
        "- the number of clusters, $G$, and  \n",
        "- the number of observations per cluster, $T$."
      ]
    },
    {
      "cell_type": "markdown",
      "metadata": {
        "id": "_qwoxZsurM1s"
      },
      "source": [
        "1. **Constructing the simulated data**\n",
        "\n",
        "   - Simulate data from the following model:\n",
        "   \\begin{align*}\n",
        "x_{gt} &\\sim \\mathcal N(0,1) \\\\\n",
        "\\alpha_g &\\sim \\mathcal N(0,1) \\\\\n",
        "u_{gt} &\\sim \\mathcal N(0,1) \\\\\n",
        "y_{gt} &= \\beta x_{gt} + \\alpha_g + u_{gt}\n",
        "\\end{align*}\n",
        "where $g = 1,\\dots,G,\\; t = 1,\\dots,T$. Assume the true slope $\\beta = 0$.\n",
        "   - Note that $\\alpha_g$ is constant for all $T$ observations within a group $g$.\n",
        "   - Write your code so that you can vary $G$ and $T$."
      ]
    },
    {
      "cell_type": "code",
      "source": [
        "def create_simulated_panel(G, T, beta=0.0, seed=None):\n",
        "\n",
        "    # indices\n",
        "    group = np.repeat(np.arange(G), T)\n",
        "    time  = np.tile(np.arange(T), G)\n",
        "    # regresor y componentes\n",
        "    x = np.random.normal(size=G*T)\n",
        "    alpha = np.random.normal(size=G)\n",
        "    u = np.random.normal(size=G*T)\n",
        "    # respuesta\n",
        "    y = beta * x + np.repeat(alpha, T) + u\n",
        "\n",
        "    return pd.DataFrame({\n",
        "        'y': y,\n",
        "        'x': x,\n",
        "        'group': group,\n",
        "        'time': time\n",
        "    })\n",
        "\n",
        "def single_trial(G, T, beta=0.0, sig_level=0.05):\n",
        "\n",
        "    df = create_simulated_panel(G, T, beta)\n",
        "    # estimación con efectos fijos de grupo y SE clustered\n",
        "    df[\"group\"] = df[\"group\"].astype(\"category\")\n",
        "    model = smf.ols(\"y ~ x + C(group)\", data=df).fit(cov_type=\"cluster\", cov_kwds={\"groups\": df[\"group\"]})\n",
        "    pval = model.pvalues[\"x\"]\n",
        "    return (pval < sig_level)\n",
        "\n",
        "def montecarlo_fe(G, T, iterations=2000, beta=0.0, sig_level=0.05):\n",
        "\n",
        "    rejects = 0\n",
        "    for i in range(iterations):\n",
        "        if single_trial(G, T, beta, sig_level):\n",
        "            rejects += 1\n",
        "    return rejects / iterations\n"
      ],
      "metadata": {
        "id": "fabqSga_aHNd"
      },
      "execution_count": 86,
      "outputs": []
    },
    {
      "cell_type": "code",
      "source": [
        "create_simulated_panel(G=50, T=10)"
      ],
      "metadata": {
        "id": "mnfMFsR1otIS",
        "outputId": "c011f3a2-229e-4370-a1cb-32e973287da6",
        "colab": {
          "base_uri": "https://localhost:8080/",
          "height": 423
        }
      },
      "execution_count": 87,
      "outputs": [
        {
          "output_type": "execute_result",
          "data": {
            "text/plain": [
              "            y         x  group  time\n",
              "0   -0.355956  0.196951      0     0\n",
              "1   -1.176001 -0.760170      0     1\n",
              "2   -0.760231 -0.147689      0     2\n",
              "3   -1.434368 -1.089203      0     3\n",
              "4   -0.167151 -1.243284      0     4\n",
              "..        ...       ...    ...   ...\n",
              "495 -1.537955 -1.178207     49     5\n",
              "496  1.067642 -0.514709     49     6\n",
              "497  0.574693  0.144694     49     7\n",
              "498  0.277202 -0.728027     49     8\n",
              "499 -1.261412 -0.596664     49     9\n",
              "\n",
              "[500 rows x 4 columns]"
            ],
            "text/html": [
              "\n",
              "  <div id=\"df-eb8ed084-a459-4640-8b24-c9f165d2bc6b\" class=\"colab-df-container\">\n",
              "    <div>\n",
              "<style scoped>\n",
              "    .dataframe tbody tr th:only-of-type {\n",
              "        vertical-align: middle;\n",
              "    }\n",
              "\n",
              "    .dataframe tbody tr th {\n",
              "        vertical-align: top;\n",
              "    }\n",
              "\n",
              "    .dataframe thead th {\n",
              "        text-align: right;\n",
              "    }\n",
              "</style>\n",
              "<table border=\"1\" class=\"dataframe\">\n",
              "  <thead>\n",
              "    <tr style=\"text-align: right;\">\n",
              "      <th></th>\n",
              "      <th>y</th>\n",
              "      <th>x</th>\n",
              "      <th>group</th>\n",
              "      <th>time</th>\n",
              "    </tr>\n",
              "  </thead>\n",
              "  <tbody>\n",
              "    <tr>\n",
              "      <th>0</th>\n",
              "      <td>-0.355956</td>\n",
              "      <td>0.196951</td>\n",
              "      <td>0</td>\n",
              "      <td>0</td>\n",
              "    </tr>\n",
              "    <tr>\n",
              "      <th>1</th>\n",
              "      <td>-1.176001</td>\n",
              "      <td>-0.760170</td>\n",
              "      <td>0</td>\n",
              "      <td>1</td>\n",
              "    </tr>\n",
              "    <tr>\n",
              "      <th>2</th>\n",
              "      <td>-0.760231</td>\n",
              "      <td>-0.147689</td>\n",
              "      <td>0</td>\n",
              "      <td>2</td>\n",
              "    </tr>\n",
              "    <tr>\n",
              "      <th>3</th>\n",
              "      <td>-1.434368</td>\n",
              "      <td>-1.089203</td>\n",
              "      <td>0</td>\n",
              "      <td>3</td>\n",
              "    </tr>\n",
              "    <tr>\n",
              "      <th>4</th>\n",
              "      <td>-0.167151</td>\n",
              "      <td>-1.243284</td>\n",
              "      <td>0</td>\n",
              "      <td>4</td>\n",
              "    </tr>\n",
              "    <tr>\n",
              "      <th>...</th>\n",
              "      <td>...</td>\n",
              "      <td>...</td>\n",
              "      <td>...</td>\n",
              "      <td>...</td>\n",
              "    </tr>\n",
              "    <tr>\n",
              "      <th>495</th>\n",
              "      <td>-1.537955</td>\n",
              "      <td>-1.178207</td>\n",
              "      <td>49</td>\n",
              "      <td>5</td>\n",
              "    </tr>\n",
              "    <tr>\n",
              "      <th>496</th>\n",
              "      <td>1.067642</td>\n",
              "      <td>-0.514709</td>\n",
              "      <td>49</td>\n",
              "      <td>6</td>\n",
              "    </tr>\n",
              "    <tr>\n",
              "      <th>497</th>\n",
              "      <td>0.574693</td>\n",
              "      <td>0.144694</td>\n",
              "      <td>49</td>\n",
              "      <td>7</td>\n",
              "    </tr>\n",
              "    <tr>\n",
              "      <th>498</th>\n",
              "      <td>0.277202</td>\n",
              "      <td>-0.728027</td>\n",
              "      <td>49</td>\n",
              "      <td>8</td>\n",
              "    </tr>\n",
              "    <tr>\n",
              "      <th>499</th>\n",
              "      <td>-1.261412</td>\n",
              "      <td>-0.596664</td>\n",
              "      <td>49</td>\n",
              "      <td>9</td>\n",
              "    </tr>\n",
              "  </tbody>\n",
              "</table>\n",
              "<p>500 rows × 4 columns</p>\n",
              "</div>\n",
              "    <div class=\"colab-df-buttons\">\n",
              "\n",
              "  <div class=\"colab-df-container\">\n",
              "    <button class=\"colab-df-convert\" onclick=\"convertToInteractive('df-eb8ed084-a459-4640-8b24-c9f165d2bc6b')\"\n",
              "            title=\"Convert this dataframe to an interactive table.\"\n",
              "            style=\"display:none;\">\n",
              "\n",
              "  <svg xmlns=\"http://www.w3.org/2000/svg\" height=\"24px\" viewBox=\"0 -960 960 960\">\n",
              "    <path d=\"M120-120v-720h720v720H120Zm60-500h600v-160H180v160Zm220 220h160v-160H400v160Zm0 220h160v-160H400v160ZM180-400h160v-160H180v160Zm440 0h160v-160H620v160ZM180-180h160v-160H180v160Zm440 0h160v-160H620v160Z\"/>\n",
              "  </svg>\n",
              "    </button>\n",
              "\n",
              "  <style>\n",
              "    .colab-df-container {\n",
              "      display:flex;\n",
              "      gap: 12px;\n",
              "    }\n",
              "\n",
              "    .colab-df-convert {\n",
              "      background-color: #E8F0FE;\n",
              "      border: none;\n",
              "      border-radius: 50%;\n",
              "      cursor: pointer;\n",
              "      display: none;\n",
              "      fill: #1967D2;\n",
              "      height: 32px;\n",
              "      padding: 0 0 0 0;\n",
              "      width: 32px;\n",
              "    }\n",
              "\n",
              "    .colab-df-convert:hover {\n",
              "      background-color: #E2EBFA;\n",
              "      box-shadow: 0px 1px 2px rgba(60, 64, 67, 0.3), 0px 1px 3px 1px rgba(60, 64, 67, 0.15);\n",
              "      fill: #174EA6;\n",
              "    }\n",
              "\n",
              "    .colab-df-buttons div {\n",
              "      margin-bottom: 4px;\n",
              "    }\n",
              "\n",
              "    [theme=dark] .colab-df-convert {\n",
              "      background-color: #3B4455;\n",
              "      fill: #D2E3FC;\n",
              "    }\n",
              "\n",
              "    [theme=dark] .colab-df-convert:hover {\n",
              "      background-color: #434B5C;\n",
              "      box-shadow: 0px 1px 3px 1px rgba(0, 0, 0, 0.15);\n",
              "      filter: drop-shadow(0px 1px 2px rgba(0, 0, 0, 0.3));\n",
              "      fill: #FFFFFF;\n",
              "    }\n",
              "  </style>\n",
              "\n",
              "    <script>\n",
              "      const buttonEl =\n",
              "        document.querySelector('#df-eb8ed084-a459-4640-8b24-c9f165d2bc6b button.colab-df-convert');\n",
              "      buttonEl.style.display =\n",
              "        google.colab.kernel.accessAllowed ? 'block' : 'none';\n",
              "\n",
              "      async function convertToInteractive(key) {\n",
              "        const element = document.querySelector('#df-eb8ed084-a459-4640-8b24-c9f165d2bc6b');\n",
              "        const dataTable =\n",
              "          await google.colab.kernel.invokeFunction('convertToInteractive',\n",
              "                                                    [key], {});\n",
              "        if (!dataTable) return;\n",
              "\n",
              "        const docLinkHtml = 'Like what you see? Visit the ' +\n",
              "          '<a target=\"_blank\" href=https://colab.research.google.com/notebooks/data_table.ipynb>data table notebook</a>'\n",
              "          + ' to learn more about interactive tables.';\n",
              "        element.innerHTML = '';\n",
              "        dataTable['output_type'] = 'display_data';\n",
              "        await google.colab.output.renderOutput(dataTable, element);\n",
              "        const docLink = document.createElement('div');\n",
              "        docLink.innerHTML = docLinkHtml;\n",
              "        element.appendChild(docLink);\n",
              "      }\n",
              "    </script>\n",
              "  </div>\n",
              "\n",
              "\n",
              "    <div id=\"df-7bdeaf11-f953-4c92-abb3-abdf58e05505\">\n",
              "      <button class=\"colab-df-quickchart\" onclick=\"quickchart('df-7bdeaf11-f953-4c92-abb3-abdf58e05505')\"\n",
              "                title=\"Suggest charts\"\n",
              "                style=\"display:none;\">\n",
              "\n",
              "<svg xmlns=\"http://www.w3.org/2000/svg\" height=\"24px\"viewBox=\"0 0 24 24\"\n",
              "     width=\"24px\">\n",
              "    <g>\n",
              "        <path d=\"M19 3H5c-1.1 0-2 .9-2 2v14c0 1.1.9 2 2 2h14c1.1 0 2-.9 2-2V5c0-1.1-.9-2-2-2zM9 17H7v-7h2v7zm4 0h-2V7h2v10zm4 0h-2v-4h2v4z\"/>\n",
              "    </g>\n",
              "</svg>\n",
              "      </button>\n",
              "\n",
              "<style>\n",
              "  .colab-df-quickchart {\n",
              "      --bg-color: #E8F0FE;\n",
              "      --fill-color: #1967D2;\n",
              "      --hover-bg-color: #E2EBFA;\n",
              "      --hover-fill-color: #174EA6;\n",
              "      --disabled-fill-color: #AAA;\n",
              "      --disabled-bg-color: #DDD;\n",
              "  }\n",
              "\n",
              "  [theme=dark] .colab-df-quickchart {\n",
              "      --bg-color: #3B4455;\n",
              "      --fill-color: #D2E3FC;\n",
              "      --hover-bg-color: #434B5C;\n",
              "      --hover-fill-color: #FFFFFF;\n",
              "      --disabled-bg-color: #3B4455;\n",
              "      --disabled-fill-color: #666;\n",
              "  }\n",
              "\n",
              "  .colab-df-quickchart {\n",
              "    background-color: var(--bg-color);\n",
              "    border: none;\n",
              "    border-radius: 50%;\n",
              "    cursor: pointer;\n",
              "    display: none;\n",
              "    fill: var(--fill-color);\n",
              "    height: 32px;\n",
              "    padding: 0;\n",
              "    width: 32px;\n",
              "  }\n",
              "\n",
              "  .colab-df-quickchart:hover {\n",
              "    background-color: var(--hover-bg-color);\n",
              "    box-shadow: 0 1px 2px rgba(60, 64, 67, 0.3), 0 1px 3px 1px rgba(60, 64, 67, 0.15);\n",
              "    fill: var(--button-hover-fill-color);\n",
              "  }\n",
              "\n",
              "  .colab-df-quickchart-complete:disabled,\n",
              "  .colab-df-quickchart-complete:disabled:hover {\n",
              "    background-color: var(--disabled-bg-color);\n",
              "    fill: var(--disabled-fill-color);\n",
              "    box-shadow: none;\n",
              "  }\n",
              "\n",
              "  .colab-df-spinner {\n",
              "    border: 2px solid var(--fill-color);\n",
              "    border-color: transparent;\n",
              "    border-bottom-color: var(--fill-color);\n",
              "    animation:\n",
              "      spin 1s steps(1) infinite;\n",
              "  }\n",
              "\n",
              "  @keyframes spin {\n",
              "    0% {\n",
              "      border-color: transparent;\n",
              "      border-bottom-color: var(--fill-color);\n",
              "      border-left-color: var(--fill-color);\n",
              "    }\n",
              "    20% {\n",
              "      border-color: transparent;\n",
              "      border-left-color: var(--fill-color);\n",
              "      border-top-color: var(--fill-color);\n",
              "    }\n",
              "    30% {\n",
              "      border-color: transparent;\n",
              "      border-left-color: var(--fill-color);\n",
              "      border-top-color: var(--fill-color);\n",
              "      border-right-color: var(--fill-color);\n",
              "    }\n",
              "    40% {\n",
              "      border-color: transparent;\n",
              "      border-right-color: var(--fill-color);\n",
              "      border-top-color: var(--fill-color);\n",
              "    }\n",
              "    60% {\n",
              "      border-color: transparent;\n",
              "      border-right-color: var(--fill-color);\n",
              "    }\n",
              "    80% {\n",
              "      border-color: transparent;\n",
              "      border-right-color: var(--fill-color);\n",
              "      border-bottom-color: var(--fill-color);\n",
              "    }\n",
              "    90% {\n",
              "      border-color: transparent;\n",
              "      border-bottom-color: var(--fill-color);\n",
              "    }\n",
              "  }\n",
              "</style>\n",
              "\n",
              "      <script>\n",
              "        async function quickchart(key) {\n",
              "          const quickchartButtonEl =\n",
              "            document.querySelector('#' + key + ' button');\n",
              "          quickchartButtonEl.disabled = true;  // To prevent multiple clicks.\n",
              "          quickchartButtonEl.classList.add('colab-df-spinner');\n",
              "          try {\n",
              "            const charts = await google.colab.kernel.invokeFunction(\n",
              "                'suggestCharts', [key], {});\n",
              "          } catch (error) {\n",
              "            console.error('Error during call to suggestCharts:', error);\n",
              "          }\n",
              "          quickchartButtonEl.classList.remove('colab-df-spinner');\n",
              "          quickchartButtonEl.classList.add('colab-df-quickchart-complete');\n",
              "        }\n",
              "        (() => {\n",
              "          let quickchartButtonEl =\n",
              "            document.querySelector('#df-7bdeaf11-f953-4c92-abb3-abdf58e05505 button');\n",
              "          quickchartButtonEl.style.display =\n",
              "            google.colab.kernel.accessAllowed ? 'block' : 'none';\n",
              "        })();\n",
              "      </script>\n",
              "    </div>\n",
              "\n",
              "    </div>\n",
              "  </div>\n"
            ],
            "application/vnd.google.colaboratory.intrinsic+json": {
              "type": "dataframe",
              "summary": "{\n  \"name\": \"create_simulated_panel(G=50, T=10)\",\n  \"rows\": 500,\n  \"fields\": [\n    {\n      \"column\": \"y\",\n      \"properties\": {\n        \"dtype\": \"number\",\n        \"std\": 1.3015039376829078,\n        \"min\": -4.002238943069434,\n        \"max\": 3.5648516377186983,\n        \"num_unique_values\": 500,\n        \"samples\": [\n          -1.8560749683137896,\n          1.1918141561605125,\n          -1.712440510148498\n        ],\n        \"semantic_type\": \"\",\n        \"description\": \"\"\n      }\n    },\n    {\n      \"column\": \"x\",\n      \"properties\": {\n        \"dtype\": \"number\",\n        \"std\": 0.8834677934086385,\n        \"min\": -3.2633563288967995,\n        \"max\": 2.529926015328018,\n        \"num_unique_values\": 500,\n        \"samples\": [\n          -0.6320842468368685,\n          -1.4673450343784253,\n          0.16413799091845277\n        ],\n        \"semantic_type\": \"\",\n        \"description\": \"\"\n      }\n    },\n    {\n      \"column\": \"group\",\n      \"properties\": {\n        \"dtype\": \"number\",\n        \"std\": 14,\n        \"min\": 0,\n        \"max\": 49,\n        \"num_unique_values\": 50,\n        \"samples\": [\n          13,\n          39,\n          30\n        ],\n        \"semantic_type\": \"\",\n        \"description\": \"\"\n      }\n    },\n    {\n      \"column\": \"time\",\n      \"properties\": {\n        \"dtype\": \"number\",\n        \"std\": 2,\n        \"min\": 0,\n        \"max\": 9,\n        \"num_unique_values\": 10,\n        \"samples\": [\n          8,\n          1,\n          5\n        ],\n        \"semantic_type\": \"\",\n        \"description\": \"\"\n      }\n    }\n  ]\n}"
            }
          },
          "metadata": {},
          "execution_count": 87
        }
      ]
    },
    {
      "cell_type": "markdown",
      "metadata": {
        "id": "XU-jba-XrM1s"
      },
      "source": [
        "2. **Estimation and hypothesis testing**\n",
        "   \n",
        "   - Estimate the model $y_{gt} = \\beta x_{gt} + \\alpha_g + u_{gt}$, where $\\alpha_g$ is a group fixed effect. For example, you could use the `pf.feols` function with group fixed effects.\n",
        "   - Use standard errors clustered on the group variable $g$.\n",
        "   - Using a 5% significance level, record whether you reject $H_0: \\beta = 0$.\n",
        "   - Repeat this process 2000 times and return the average rejection rate.\n",
        "   - Given that $H_0$ is true ($\\beta$ really does equal 0), the rejection rate for a 5% test should be close to 5%."
      ]
    },
    {
      "cell_type": "code",
      "source": [
        "sim_1= montecarlo_fe(G=50, T=10, iterations=2000)\n",
        "print(f\"Tasa de rechazo promedio (H0: β=0): {sim_1:.3f}\")"
      ],
      "metadata": {
        "id": "ytB8LuProj6L",
        "outputId": "3b91de74-ee73-4b74-caaa-ef14d3c532bf",
        "colab": {
          "base_uri": "https://localhost:8080/"
        }
      },
      "execution_count": 89,
      "outputs": [
        {
          "output_type": "stream",
          "name": "stdout",
          "text": [
            "Tasa de rechazo promedio (H0: β=0): 0.036\n"
          ]
        }
      ]
    },
    {
      "cell_type": "markdown",
      "metadata": {
        "id": "xcurbSC1rM1t"
      },
      "source": [
        "3. **Varying $G$ and $T$**\n",
        "   \n",
        "   - Create a grid of values of $G$ and $T$. For example, $G \\in \\{5,10,20,30,50,100,250\\}$ and $T \\in \\{5, 10, 20, 50, 100\\}$\n",
        "   - For every $(G,T)$ pair, run the 2000 replications in (2) and store the rejection rate that is returned.\n",
        "   - Present your results in a table where $G$ varies across the rows and $T$ varies across the columns."
      ]
    },
    {
      "cell_type": "code",
      "source": [
        "# Grid de valores\n",
        "G_values = [5, 10, 20, 30, 50, 100, 250]\n",
        "T_values = [5, 10, 20, 50, 100]\n",
        "\n",
        "# Crear DataFrame vacío para resultados\n",
        "results = pd.DataFrame(index=G_values, columns=T_values)\n",
        "\n",
        "# Ejecutar simulaciones\n",
        "for G in G_values:\n",
        "    for T in T_values:\n",
        "        print(f\"Corriendo simulación para G={G}, T={T}...\")\n",
        "        tasa = montecarlo_fe(G, T, iterations=2000, beta=0.0, sig_level=0.05)\n",
        "        results.loc[G, T] = tasa\n",
        "\n",
        "\n",
        "# Mostrar resultados\n",
        "print(\"Tabla de tasas de rechazo (H0: β = 0):\")\n",
        "print(results)\n",
        "\n"
      ],
      "metadata": {
        "id": "ngAtGb8ZprUd",
        "outputId": "a7b92285-c833-4bec-98e7-5a11690f3214",
        "colab": {
          "base_uri": "https://localhost:8080/"
        }
      },
      "execution_count": 91,
      "outputs": [
        {
          "output_type": "stream",
          "name": "stdout",
          "text": [
            "Corriendo simulación para G=5, T=5...\n",
            "Corriendo simulación para G=5, T=10...\n",
            "Corriendo simulación para G=5, T=20...\n",
            "Corriendo simulación para G=5, T=50...\n",
            "Corriendo simulación para G=5, T=100...\n",
            "Corriendo simulación para G=10, T=5...\n",
            "Corriendo simulación para G=10, T=10...\n",
            "Corriendo simulación para G=10, T=20...\n",
            "Corriendo simulación para G=10, T=50...\n",
            "Corriendo simulación para G=10, T=100...\n",
            "Corriendo simulación para G=20, T=5...\n",
            "Corriendo simulación para G=20, T=10...\n",
            "Corriendo simulación para G=20, T=20...\n",
            "Corriendo simulación para G=20, T=50...\n",
            "Corriendo simulación para G=20, T=100...\n",
            "Corriendo simulación para G=30, T=5...\n",
            "Corriendo simulación para G=30, T=10...\n",
            "Corriendo simulación para G=30, T=20...\n",
            "Corriendo simulación para G=30, T=50...\n",
            "Corriendo simulación para G=30, T=100...\n",
            "Corriendo simulación para G=50, T=5...\n",
            "Corriendo simulación para G=50, T=10...\n",
            "Corriendo simulación para G=50, T=20...\n",
            "Corriendo simulación para G=50, T=50...\n",
            "Corriendo simulación para G=50, T=100...\n",
            "Corriendo simulación para G=100, T=5...\n",
            "Corriendo simulación para G=100, T=10...\n",
            "Corriendo simulación para G=100, T=20...\n",
            "Corriendo simulación para G=100, T=50...\n",
            "Corriendo simulación para G=100, T=100...\n",
            "Corriendo simulación para G=250, T=5...\n",
            "Corriendo simulación para G=250, T=10...\n",
            "Corriendo simulación para G=250, T=20...\n",
            "Corriendo simulación para G=250, T=50...\n",
            "Corriendo simulación para G=250, T=100...\n",
            "Tabla de tasas de rechazo (H0: β = 0):\n",
            "        5       10      20      50      100\n",
            "5    0.1165    0.13  0.1285  0.1135   0.113\n",
            "10   0.0685  0.0765   0.084   0.082   0.094\n",
            "20     0.05  0.0565  0.0545  0.0605   0.058\n",
            "30    0.036   0.053   0.051   0.051    0.06\n",
            "50   0.0375   0.042    0.05   0.046  0.0635\n",
            "100   0.032   0.047  0.0465  0.0465   0.046\n",
            "250    0.03   0.041  0.0395   0.051   0.041\n"
          ]
        }
      ]
    },
    {
      "cell_type": "code",
      "source": [
        "results"
      ],
      "metadata": {
        "id": "RU41_RsJVMCm",
        "outputId": "8e19eb63-86be-4f4d-9725-ec2547a2a8ab",
        "colab": {
          "base_uri": "https://localhost:8080/",
          "height": 269
        }
      },
      "execution_count": 92,
      "outputs": [
        {
          "output_type": "execute_result",
          "data": {
            "text/plain": [
              "        5       10      20      50      100\n",
              "5    0.1165    0.13  0.1285  0.1135   0.113\n",
              "10   0.0685  0.0765   0.084   0.082   0.094\n",
              "20     0.05  0.0565  0.0545  0.0605   0.058\n",
              "30    0.036   0.053   0.051   0.051    0.06\n",
              "50   0.0375   0.042    0.05   0.046  0.0635\n",
              "100   0.032   0.047  0.0465  0.0465   0.046\n",
              "250    0.03   0.041  0.0395   0.051   0.041"
            ],
            "text/html": [
              "\n",
              "  <div id=\"df-efdb4edf-b3da-41e3-b741-85702d7c4a96\" class=\"colab-df-container\">\n",
              "    <div>\n",
              "<style scoped>\n",
              "    .dataframe tbody tr th:only-of-type {\n",
              "        vertical-align: middle;\n",
              "    }\n",
              "\n",
              "    .dataframe tbody tr th {\n",
              "        vertical-align: top;\n",
              "    }\n",
              "\n",
              "    .dataframe thead th {\n",
              "        text-align: right;\n",
              "    }\n",
              "</style>\n",
              "<table border=\"1\" class=\"dataframe\">\n",
              "  <thead>\n",
              "    <tr style=\"text-align: right;\">\n",
              "      <th></th>\n",
              "      <th>5</th>\n",
              "      <th>10</th>\n",
              "      <th>20</th>\n",
              "      <th>50</th>\n",
              "      <th>100</th>\n",
              "    </tr>\n",
              "  </thead>\n",
              "  <tbody>\n",
              "    <tr>\n",
              "      <th>5</th>\n",
              "      <td>0.1165</td>\n",
              "      <td>0.13</td>\n",
              "      <td>0.1285</td>\n",
              "      <td>0.1135</td>\n",
              "      <td>0.113</td>\n",
              "    </tr>\n",
              "    <tr>\n",
              "      <th>10</th>\n",
              "      <td>0.0685</td>\n",
              "      <td>0.0765</td>\n",
              "      <td>0.084</td>\n",
              "      <td>0.082</td>\n",
              "      <td>0.094</td>\n",
              "    </tr>\n",
              "    <tr>\n",
              "      <th>20</th>\n",
              "      <td>0.05</td>\n",
              "      <td>0.0565</td>\n",
              "      <td>0.0545</td>\n",
              "      <td>0.0605</td>\n",
              "      <td>0.058</td>\n",
              "    </tr>\n",
              "    <tr>\n",
              "      <th>30</th>\n",
              "      <td>0.036</td>\n",
              "      <td>0.053</td>\n",
              "      <td>0.051</td>\n",
              "      <td>0.051</td>\n",
              "      <td>0.06</td>\n",
              "    </tr>\n",
              "    <tr>\n",
              "      <th>50</th>\n",
              "      <td>0.0375</td>\n",
              "      <td>0.042</td>\n",
              "      <td>0.05</td>\n",
              "      <td>0.046</td>\n",
              "      <td>0.0635</td>\n",
              "    </tr>\n",
              "    <tr>\n",
              "      <th>100</th>\n",
              "      <td>0.032</td>\n",
              "      <td>0.047</td>\n",
              "      <td>0.0465</td>\n",
              "      <td>0.0465</td>\n",
              "      <td>0.046</td>\n",
              "    </tr>\n",
              "    <tr>\n",
              "      <th>250</th>\n",
              "      <td>0.03</td>\n",
              "      <td>0.041</td>\n",
              "      <td>0.0395</td>\n",
              "      <td>0.051</td>\n",
              "      <td>0.041</td>\n",
              "    </tr>\n",
              "  </tbody>\n",
              "</table>\n",
              "</div>\n",
              "    <div class=\"colab-df-buttons\">\n",
              "\n",
              "  <div class=\"colab-df-container\">\n",
              "    <button class=\"colab-df-convert\" onclick=\"convertToInteractive('df-efdb4edf-b3da-41e3-b741-85702d7c4a96')\"\n",
              "            title=\"Convert this dataframe to an interactive table.\"\n",
              "            style=\"display:none;\">\n",
              "\n",
              "  <svg xmlns=\"http://www.w3.org/2000/svg\" height=\"24px\" viewBox=\"0 -960 960 960\">\n",
              "    <path d=\"M120-120v-720h720v720H120Zm60-500h600v-160H180v160Zm220 220h160v-160H400v160Zm0 220h160v-160H400v160ZM180-400h160v-160H180v160Zm440 0h160v-160H620v160ZM180-180h160v-160H180v160Zm440 0h160v-160H620v160Z\"/>\n",
              "  </svg>\n",
              "    </button>\n",
              "\n",
              "  <style>\n",
              "    .colab-df-container {\n",
              "      display:flex;\n",
              "      gap: 12px;\n",
              "    }\n",
              "\n",
              "    .colab-df-convert {\n",
              "      background-color: #E8F0FE;\n",
              "      border: none;\n",
              "      border-radius: 50%;\n",
              "      cursor: pointer;\n",
              "      display: none;\n",
              "      fill: #1967D2;\n",
              "      height: 32px;\n",
              "      padding: 0 0 0 0;\n",
              "      width: 32px;\n",
              "    }\n",
              "\n",
              "    .colab-df-convert:hover {\n",
              "      background-color: #E2EBFA;\n",
              "      box-shadow: 0px 1px 2px rgba(60, 64, 67, 0.3), 0px 1px 3px 1px rgba(60, 64, 67, 0.15);\n",
              "      fill: #174EA6;\n",
              "    }\n",
              "\n",
              "    .colab-df-buttons div {\n",
              "      margin-bottom: 4px;\n",
              "    }\n",
              "\n",
              "    [theme=dark] .colab-df-convert {\n",
              "      background-color: #3B4455;\n",
              "      fill: #D2E3FC;\n",
              "    }\n",
              "\n",
              "    [theme=dark] .colab-df-convert:hover {\n",
              "      background-color: #434B5C;\n",
              "      box-shadow: 0px 1px 3px 1px rgba(0, 0, 0, 0.15);\n",
              "      filter: drop-shadow(0px 1px 2px rgba(0, 0, 0, 0.3));\n",
              "      fill: #FFFFFF;\n",
              "    }\n",
              "  </style>\n",
              "\n",
              "    <script>\n",
              "      const buttonEl =\n",
              "        document.querySelector('#df-efdb4edf-b3da-41e3-b741-85702d7c4a96 button.colab-df-convert');\n",
              "      buttonEl.style.display =\n",
              "        google.colab.kernel.accessAllowed ? 'block' : 'none';\n",
              "\n",
              "      async function convertToInteractive(key) {\n",
              "        const element = document.querySelector('#df-efdb4edf-b3da-41e3-b741-85702d7c4a96');\n",
              "        const dataTable =\n",
              "          await google.colab.kernel.invokeFunction('convertToInteractive',\n",
              "                                                    [key], {});\n",
              "        if (!dataTable) return;\n",
              "\n",
              "        const docLinkHtml = 'Like what you see? Visit the ' +\n",
              "          '<a target=\"_blank\" href=https://colab.research.google.com/notebooks/data_table.ipynb>data table notebook</a>'\n",
              "          + ' to learn more about interactive tables.';\n",
              "        element.innerHTML = '';\n",
              "        dataTable['output_type'] = 'display_data';\n",
              "        await google.colab.output.renderOutput(dataTable, element);\n",
              "        const docLink = document.createElement('div');\n",
              "        docLink.innerHTML = docLinkHtml;\n",
              "        element.appendChild(docLink);\n",
              "      }\n",
              "    </script>\n",
              "  </div>\n",
              "\n",
              "\n",
              "    <div id=\"df-2a27660e-ebc4-4ede-adca-6d43deb044ed\">\n",
              "      <button class=\"colab-df-quickchart\" onclick=\"quickchart('df-2a27660e-ebc4-4ede-adca-6d43deb044ed')\"\n",
              "                title=\"Suggest charts\"\n",
              "                style=\"display:none;\">\n",
              "\n",
              "<svg xmlns=\"http://www.w3.org/2000/svg\" height=\"24px\"viewBox=\"0 0 24 24\"\n",
              "     width=\"24px\">\n",
              "    <g>\n",
              "        <path d=\"M19 3H5c-1.1 0-2 .9-2 2v14c0 1.1.9 2 2 2h14c1.1 0 2-.9 2-2V5c0-1.1-.9-2-2-2zM9 17H7v-7h2v7zm4 0h-2V7h2v10zm4 0h-2v-4h2v4z\"/>\n",
              "    </g>\n",
              "</svg>\n",
              "      </button>\n",
              "\n",
              "<style>\n",
              "  .colab-df-quickchart {\n",
              "      --bg-color: #E8F0FE;\n",
              "      --fill-color: #1967D2;\n",
              "      --hover-bg-color: #E2EBFA;\n",
              "      --hover-fill-color: #174EA6;\n",
              "      --disabled-fill-color: #AAA;\n",
              "      --disabled-bg-color: #DDD;\n",
              "  }\n",
              "\n",
              "  [theme=dark] .colab-df-quickchart {\n",
              "      --bg-color: #3B4455;\n",
              "      --fill-color: #D2E3FC;\n",
              "      --hover-bg-color: #434B5C;\n",
              "      --hover-fill-color: #FFFFFF;\n",
              "      --disabled-bg-color: #3B4455;\n",
              "      --disabled-fill-color: #666;\n",
              "  }\n",
              "\n",
              "  .colab-df-quickchart {\n",
              "    background-color: var(--bg-color);\n",
              "    border: none;\n",
              "    border-radius: 50%;\n",
              "    cursor: pointer;\n",
              "    display: none;\n",
              "    fill: var(--fill-color);\n",
              "    height: 32px;\n",
              "    padding: 0;\n",
              "    width: 32px;\n",
              "  }\n",
              "\n",
              "  .colab-df-quickchart:hover {\n",
              "    background-color: var(--hover-bg-color);\n",
              "    box-shadow: 0 1px 2px rgba(60, 64, 67, 0.3), 0 1px 3px 1px rgba(60, 64, 67, 0.15);\n",
              "    fill: var(--button-hover-fill-color);\n",
              "  }\n",
              "\n",
              "  .colab-df-quickchart-complete:disabled,\n",
              "  .colab-df-quickchart-complete:disabled:hover {\n",
              "    background-color: var(--disabled-bg-color);\n",
              "    fill: var(--disabled-fill-color);\n",
              "    box-shadow: none;\n",
              "  }\n",
              "\n",
              "  .colab-df-spinner {\n",
              "    border: 2px solid var(--fill-color);\n",
              "    border-color: transparent;\n",
              "    border-bottom-color: var(--fill-color);\n",
              "    animation:\n",
              "      spin 1s steps(1) infinite;\n",
              "  }\n",
              "\n",
              "  @keyframes spin {\n",
              "    0% {\n",
              "      border-color: transparent;\n",
              "      border-bottom-color: var(--fill-color);\n",
              "      border-left-color: var(--fill-color);\n",
              "    }\n",
              "    20% {\n",
              "      border-color: transparent;\n",
              "      border-left-color: var(--fill-color);\n",
              "      border-top-color: var(--fill-color);\n",
              "    }\n",
              "    30% {\n",
              "      border-color: transparent;\n",
              "      border-left-color: var(--fill-color);\n",
              "      border-top-color: var(--fill-color);\n",
              "      border-right-color: var(--fill-color);\n",
              "    }\n",
              "    40% {\n",
              "      border-color: transparent;\n",
              "      border-right-color: var(--fill-color);\n",
              "      border-top-color: var(--fill-color);\n",
              "    }\n",
              "    60% {\n",
              "      border-color: transparent;\n",
              "      border-right-color: var(--fill-color);\n",
              "    }\n",
              "    80% {\n",
              "      border-color: transparent;\n",
              "      border-right-color: var(--fill-color);\n",
              "      border-bottom-color: var(--fill-color);\n",
              "    }\n",
              "    90% {\n",
              "      border-color: transparent;\n",
              "      border-bottom-color: var(--fill-color);\n",
              "    }\n",
              "  }\n",
              "</style>\n",
              "\n",
              "      <script>\n",
              "        async function quickchart(key) {\n",
              "          const quickchartButtonEl =\n",
              "            document.querySelector('#' + key + ' button');\n",
              "          quickchartButtonEl.disabled = true;  // To prevent multiple clicks.\n",
              "          quickchartButtonEl.classList.add('colab-df-spinner');\n",
              "          try {\n",
              "            const charts = await google.colab.kernel.invokeFunction(\n",
              "                'suggestCharts', [key], {});\n",
              "          } catch (error) {\n",
              "            console.error('Error during call to suggestCharts:', error);\n",
              "          }\n",
              "          quickchartButtonEl.classList.remove('colab-df-spinner');\n",
              "          quickchartButtonEl.classList.add('colab-df-quickchart-complete');\n",
              "        }\n",
              "        (() => {\n",
              "          let quickchartButtonEl =\n",
              "            document.querySelector('#df-2a27660e-ebc4-4ede-adca-6d43deb044ed button');\n",
              "          quickchartButtonEl.style.display =\n",
              "            google.colab.kernel.accessAllowed ? 'block' : 'none';\n",
              "        })();\n",
              "      </script>\n",
              "    </div>\n",
              "\n",
              "  <div id=\"id_dcc972c8-a523-453f-bceb-2fe2bb507e8d\">\n",
              "    <style>\n",
              "      .colab-df-generate {\n",
              "        background-color: #E8F0FE;\n",
              "        border: none;\n",
              "        border-radius: 50%;\n",
              "        cursor: pointer;\n",
              "        display: none;\n",
              "        fill: #1967D2;\n",
              "        height: 32px;\n",
              "        padding: 0 0 0 0;\n",
              "        width: 32px;\n",
              "      }\n",
              "\n",
              "      .colab-df-generate:hover {\n",
              "        background-color: #E2EBFA;\n",
              "        box-shadow: 0px 1px 2px rgba(60, 64, 67, 0.3), 0px 1px 3px 1px rgba(60, 64, 67, 0.15);\n",
              "        fill: #174EA6;\n",
              "      }\n",
              "\n",
              "      [theme=dark] .colab-df-generate {\n",
              "        background-color: #3B4455;\n",
              "        fill: #D2E3FC;\n",
              "      }\n",
              "\n",
              "      [theme=dark] .colab-df-generate:hover {\n",
              "        background-color: #434B5C;\n",
              "        box-shadow: 0px 1px 3px 1px rgba(0, 0, 0, 0.15);\n",
              "        filter: drop-shadow(0px 1px 2px rgba(0, 0, 0, 0.3));\n",
              "        fill: #FFFFFF;\n",
              "      }\n",
              "    </style>\n",
              "    <button class=\"colab-df-generate\" onclick=\"generateWithVariable('results')\"\n",
              "            title=\"Generate code using this dataframe.\"\n",
              "            style=\"display:none;\">\n",
              "\n",
              "  <svg xmlns=\"http://www.w3.org/2000/svg\" height=\"24px\"viewBox=\"0 0 24 24\"\n",
              "       width=\"24px\">\n",
              "    <path d=\"M7,19H8.4L18.45,9,17,7.55,7,17.6ZM5,21V16.75L18.45,3.32a2,2,0,0,1,2.83,0l1.4,1.43a1.91,1.91,0,0,1,.58,1.4,1.91,1.91,0,0,1-.58,1.4L9.25,21ZM18.45,9,17,7.55Zm-12,3A5.31,5.31,0,0,0,4.9,8.1,5.31,5.31,0,0,0,1,6.5,5.31,5.31,0,0,0,4.9,4.9,5.31,5.31,0,0,0,6.5,1,5.31,5.31,0,0,0,8.1,4.9,5.31,5.31,0,0,0,12,6.5,5.46,5.46,0,0,0,6.5,12Z\"/>\n",
              "  </svg>\n",
              "    </button>\n",
              "    <script>\n",
              "      (() => {\n",
              "      const buttonEl =\n",
              "        document.querySelector('#id_dcc972c8-a523-453f-bceb-2fe2bb507e8d button.colab-df-generate');\n",
              "      buttonEl.style.display =\n",
              "        google.colab.kernel.accessAllowed ? 'block' : 'none';\n",
              "\n",
              "      buttonEl.onclick = () => {\n",
              "        google.colab.notebook.generateWithVariable('results');\n",
              "      }\n",
              "      })();\n",
              "    </script>\n",
              "  </div>\n",
              "\n",
              "    </div>\n",
              "  </div>\n"
            ],
            "application/vnd.google.colaboratory.intrinsic+json": {
              "type": "dataframe",
              "variable_name": "results",
              "repr_error": "0"
            }
          },
          "metadata": {},
          "execution_count": 92
        }
      ]
    },
    {
      "cell_type": "markdown",
      "metadata": {
        "id": "LeRbAw1krM1t"
      },
      "source": [
        "4. **Interpetation**\n",
        "\n",
        "   - What happens to the empirical size as $T$ rises while $G$ stays fixed?\n",
        "   - What happens to the empirical size as $G$ rises while $T$ stays fixed?\n",
        "   - Discuss the implications of your results for empirical researchers using clustered standard errors."
      ]
    },
    {
      "cell_type": "code",
      "source": [],
      "metadata": {
        "id": "koS3vYzQVPjF"
      },
      "execution_count": null,
      "outputs": []
    }
  ],
  "metadata": {
    "colab": {
      "provenance": [],
      "include_colab_link": true
    },
    "kernelspec": {
      "display_name": "venv",
      "language": "python",
      "name": "python3"
    },
    "language_info": {
      "codemirror_mode": {
        "name": "ipython",
        "version": 3
      },
      "file_extension": ".py",
      "mimetype": "text/x-python",
      "name": "python",
      "nbconvert_exporter": "python",
      "pygments_lexer": "ipython3",
      "version": "3.12.8"
    }
  },
  "nbformat": 4,
  "nbformat_minor": 0
}