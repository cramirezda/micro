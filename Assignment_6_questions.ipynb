{
  "cells": [
    {
      "cell_type": "markdown",
      "metadata": {
        "id": "view-in-github",
        "colab_type": "text"
      },
      "source": [
        "<a href=\"https://colab.research.google.com/github/cramirezda/micro/blob/main/Assignment_6_questions.ipynb\" target=\"_parent\"><img src=\"https://colab.research.google.com/assets/colab-badge.svg\" alt=\"Open In Colab\"/></a>"
      ]
    },
    {
      "cell_type": "markdown",
      "metadata": {
        "id": "0QouW0jaYxhh"
      },
      "source": [
        "# ASSIGNMENT 6\n",
        "# *YOUR NAME*\n",
        "\n",
        "## ECO 50213: Advanced Microeconometrics\n",
        "## May 2, 2025\n",
        "\n",
        "Please complete your code and text answers in this notebook, then export the notebook to PDF format. Use the online submission feature of Canvas to upload your PDF before 6:00 p.m. on Friday, May 9.\n",
        "\n",
        "You are encouraged to work together on the assignments. AI tools may be used to assist in coding, debugging, or understanding concepts. However, the final submission must be your own work, written in your own words, and reflect your own understanding."
      ]
    },
    {
      "cell_type": "code",
      "execution_count": 7,
      "metadata": {
        "id": "RChtyxv9aEv9",
        "colab": {
          "base_uri": "https://localhost:8080/"
        },
        "outputId": "2c2859ec-26b3-497f-f868-5bfcead49d87"
      },
      "outputs": [
        {
          "output_type": "stream",
          "name": "stdout",
          "text": [
            "Requirement already satisfied: pyfixest in /usr/local/lib/python3.11/dist-packages (0.29.0)\n",
            "Requirement already satisfied: formulaic>=1.1.0 in /usr/local/lib/python3.11/dist-packages (from pyfixest) (1.1.1)\n",
            "Requirement already satisfied: great-tables>=0.10.0 in /usr/local/lib/python3.11/dist-packages (from pyfixest) (0.17.0)\n",
            "Requirement already satisfied: joblib<2,>=1.4.2 in /usr/local/lib/python3.11/dist-packages (from pyfixest) (1.4.2)\n",
            "Requirement already satisfied: narwhals>=1.13.3 in /usr/local/lib/python3.11/dist-packages (from pyfixest) (1.37.1)\n",
            "Requirement already satisfied: numba>=0.58.0 in /usr/local/lib/python3.11/dist-packages (from pyfixest) (0.60.0)\n",
            "Requirement already satisfied: numpy>=1.19.0 in /usr/local/lib/python3.11/dist-packages (from pyfixest) (2.0.2)\n",
            "Requirement already satisfied: pandas>=1.1.0 in /usr/local/lib/python3.11/dist-packages (from pyfixest) (2.2.2)\n",
            "Requirement already satisfied: scipy>=1.6 in /usr/local/lib/python3.11/dist-packages (from pyfixest) (1.15.2)\n",
            "Requirement already satisfied: seaborn>=0.13.2 in /usr/local/lib/python3.11/dist-packages (from pyfixest) (0.13.2)\n",
            "Requirement already satisfied: tabulate>=0.9.0 in /usr/local/lib/python3.11/dist-packages (from pyfixest) (0.9.0)\n",
            "Requirement already satisfied: tqdm>=4.0.0 in /usr/local/lib/python3.11/dist-packages (from pyfixest) (4.67.1)\n",
            "Requirement already satisfied: interface-meta>=1.2.0 in /usr/local/lib/python3.11/dist-packages (from formulaic>=1.1.0->pyfixest) (1.3.0)\n",
            "Requirement already satisfied: typing-extensions>=4.2.0 in /usr/local/lib/python3.11/dist-packages (from formulaic>=1.1.0->pyfixest) (4.13.2)\n",
            "Requirement already satisfied: wrapt>=1.0 in /usr/local/lib/python3.11/dist-packages (from formulaic>=1.1.0->pyfixest) (1.17.2)\n",
            "Requirement already satisfied: commonmark>=0.9.1 in /usr/local/lib/python3.11/dist-packages (from great-tables>=0.10.0->pyfixest) (0.9.1)\n",
            "Requirement already satisfied: faicons>=0.2.2 in /usr/local/lib/python3.11/dist-packages (from great-tables>=0.10.0->pyfixest) (0.2.2)\n",
            "Requirement already satisfied: htmltools>=0.4.1 in /usr/local/lib/python3.11/dist-packages (from great-tables>=0.10.0->pyfixest) (0.6.0)\n",
            "Requirement already satisfied: importlib-metadata in /usr/local/lib/python3.11/dist-packages (from great-tables>=0.10.0->pyfixest) (8.7.0)\n",
            "Requirement already satisfied: Babel>=2.13.1 in /usr/local/lib/python3.11/dist-packages (from great-tables>=0.10.0->pyfixest) (2.17.0)\n",
            "Requirement already satisfied: importlib-resources in /usr/local/lib/python3.11/dist-packages (from great-tables>=0.10.0->pyfixest) (6.5.2)\n",
            "Requirement already satisfied: llvmlite<0.44,>=0.43.0dev0 in /usr/local/lib/python3.11/dist-packages (from numba>=0.58.0->pyfixest) (0.43.0)\n",
            "Requirement already satisfied: python-dateutil>=2.8.2 in /usr/local/lib/python3.11/dist-packages (from pandas>=1.1.0->pyfixest) (2.9.0.post0)\n",
            "Requirement already satisfied: pytz>=2020.1 in /usr/local/lib/python3.11/dist-packages (from pandas>=1.1.0->pyfixest) (2025.2)\n",
            "Requirement already satisfied: tzdata>=2022.7 in /usr/local/lib/python3.11/dist-packages (from pandas>=1.1.0->pyfixest) (2025.2)\n",
            "Requirement already satisfied: matplotlib!=3.6.1,>=3.4 in /usr/local/lib/python3.11/dist-packages (from seaborn>=0.13.2->pyfixest) (3.10.0)\n",
            "Requirement already satisfied: packaging>=20.9 in /usr/local/lib/python3.11/dist-packages (from htmltools>=0.4.1->great-tables>=0.10.0->pyfixest) (24.2)\n",
            "Requirement already satisfied: contourpy>=1.0.1 in /usr/local/lib/python3.11/dist-packages (from matplotlib!=3.6.1,>=3.4->seaborn>=0.13.2->pyfixest) (1.3.2)\n",
            "Requirement already satisfied: cycler>=0.10 in /usr/local/lib/python3.11/dist-packages (from matplotlib!=3.6.1,>=3.4->seaborn>=0.13.2->pyfixest) (0.12.1)\n",
            "Requirement already satisfied: fonttools>=4.22.0 in /usr/local/lib/python3.11/dist-packages (from matplotlib!=3.6.1,>=3.4->seaborn>=0.13.2->pyfixest) (4.57.0)\n",
            "Requirement already satisfied: kiwisolver>=1.3.1 in /usr/local/lib/python3.11/dist-packages (from matplotlib!=3.6.1,>=3.4->seaborn>=0.13.2->pyfixest) (1.4.8)\n",
            "Requirement already satisfied: pillow>=8 in /usr/local/lib/python3.11/dist-packages (from matplotlib!=3.6.1,>=3.4->seaborn>=0.13.2->pyfixest) (11.2.1)\n",
            "Requirement already satisfied: pyparsing>=2.3.1 in /usr/local/lib/python3.11/dist-packages (from matplotlib!=3.6.1,>=3.4->seaborn>=0.13.2->pyfixest) (3.2.3)\n",
            "Requirement already satisfied: six>=1.5 in /usr/local/lib/python3.11/dist-packages (from python-dateutil>=2.8.2->pandas>=1.1.0->pyfixest) (1.17.0)\n",
            "Requirement already satisfied: zipp>=3.20 in /usr/local/lib/python3.11/dist-packages (from importlib-metadata->great-tables>=0.10.0->pyfixest) (3.21.0)\n"
          ]
        }
      ],
      "source": [
        "import pandas as pd\n",
        "import numpy as np\n",
        "!pip install pyfixest\n",
        "import pyfixest as pf\n",
        "from pyfixest import feols"
      ]
    },
    {
      "cell_type": "markdown",
      "metadata": {
        "id": "0Qs5_c6MaP_t"
      },
      "source": [
        "## Question 1: Concealed weapons and crime\n",
        "\n",
        "This exercise expands on the analysis of gun laws in the United States by the economist John Lott in his influential and controversial book, *More Guns, Less Crime*. Lott claims that rates of violent crime go down when states pass \"shall issue\" concealed carry laws. These laws instruct local authorities to issue a concealed weapons permit to all applicants, with limited restrictions. Lott argues that these laws deter violent crime because criminals are less willing to attack someone who might be carrying a concealed weapon.\n",
        "\n",
        "The following code imports the dataset `guns`. Each observation in the dataset is a state ($stateid$) and year ($year$). The main regressor of interest is the dummy variable $shall$, which is equal to 1 if the state has a concealed carry law in a particular year. The dependent variable is $\\log(vio)$, the log of the violent crime rate in the state and year."
      ]
    },
    {
      "cell_type": "code",
      "execution_count": 8,
      "metadata": {
        "id": "Ru51GzOhrM1p",
        "outputId": "90ba564c-e3cf-4a8c-b66c-05acc4ead06b",
        "colab": {
          "base_uri": "https://localhost:8080/"
        }
      },
      "outputs": [
        {
          "output_type": "stream",
          "name": "stdout",
          "text": [
            "   year    vio   mur    rob  incarc_rate    pb1064    pw1064    pm1029  \\\n",
            "0    77  414.4  14.2   96.8           83  8.384873  55.12291  18.17441   \n",
            "1    78  419.1  13.3   99.1           94  8.352101  55.14367  17.99408   \n",
            "2    79  413.3  13.2  109.5          144  8.329575  55.13586  17.83934   \n",
            "3    80  448.5  13.2  132.1          141  8.408386  54.91259  17.73420   \n",
            "4    81  470.5  11.9  126.5          149  8.483435  54.92513  17.67372   \n",
            "\n",
            "        pop    avginc   density  stateid  shall  \n",
            "0  3.780403  9.563148  0.074552        1      0  \n",
            "1  3.831838  9.932000  0.075567        1      0  \n",
            "2  3.866248  9.877028  0.076245        1      0  \n",
            "3  3.900368  9.541428  0.076829        1      0  \n",
            "4  3.918531  9.548351  0.077187        1      0  \n"
          ]
        }
      ],
      "source": [
        "# Load data\n",
        "url = \"https://raw.githubusercontent.com/sdmcrae/econometrics/master/datasets/guns.csv\"\n",
        "\n",
        "df = pd.read_csv(url)\n",
        "print(df.head())"
      ]
    },
    {
      "cell_type": "code",
      "source": [
        "df['logvio']=np.log(df['vio'])"
      ],
      "metadata": {
        "id": "za85hOviU8GW"
      },
      "execution_count": 9,
      "outputs": []
    },
    {
      "cell_type": "markdown",
      "metadata": {
        "id": "7v8WV4kFrM1q"
      },
      "source": [
        "The variables in this dataset are:\n",
        "- $year$: Year (1977-1999)\n",
        "- $vio$: violent crime rate (incidents per 100,000 members of the population)\n",
        "- $mur$: murder rate (incidents per 100,000)\n",
        "- $rob$: robbery rate (incidents per 100,000)\n",
        "- $incarc\\_rate$: incarceration rate in the state in the previous year (sentenced prisoners per 100,000 residents; value for the previous year)\n",
        "- $pm1029$: percent of state population that is male, ages 10 to 29\n",
        "- $pw1064$: percent of state population that is white, ages 10 to 64\n",
        "- $pb1064$: percent of state population that is black, ages 10 to 64\n",
        "- $pop$: state population, in millions of people\n",
        "- $avginc$: real per capita personal income in the state, in thousands of dollars\n",
        "- $density$: population per square mile of land area, divided by 1000\n",
        "- $stateid$: ID number of states (Alabama = 1, Alaska = 2, etc.)\n",
        "- $shall$: 1 if the state has a shall-carry law in effect in that year, otherwise 0\n",
        "\n",
        "You will estimate six different models for the effect of concealed carry laws on $\\log(vio)$. Use `pf.feols` to run these regressions, then `etable` to report all of these results in a single regression table, with one column for each model. Use heteroskedasticity-consistent standard errors for the first five regressions. In the final regression, you will see the effect of clustering the standard errors by state."
      ]
    },
    {
      "cell_type": "markdown",
      "metadata": {
        "id": "5oKBZQAerM1q"
      },
      "source": [
        "1. **Pooled estimator**\n",
        "\n",
        "   - Regress $\\log(vio)$ on $shall$:\n",
        "   \n",
        "     \\begin{align*}\n",
        "     \\log(vio_{it}) &= \\beta_0 + \\beta_1 shall_{it} + u_{it}\n",
        "     \\end{align*}\n",
        "\n",
        "   - For panel data, this regression is known as the **pooled estimator**, because it estimates the standard OLS model with no fixed effects. Report your results in Column 1 of your regression table.\n",
        "   - What is your interpretation of $\\hat{\\beta}_1$ for this regression?"
      ]
    },
    {
      "cell_type": "code",
      "source": [
        "# Supongamos que ya tienes un DataFrame llamado df con las columnas 'y' y 'x'\n",
        "model_ols1 = feols('logvio ~ shall', data=df)\n",
        "print(model_ols1.summary())\n"
      ],
      "metadata": {
        "colab": {
          "base_uri": "https://localhost:8080/"
        },
        "id": "xMKFr4tTRcKn",
        "outputId": "2ccfcfde-725a-472a-8a90-15c348272926"
      },
      "execution_count": 10,
      "outputs": [
        {
          "output_type": "stream",
          "name": "stdout",
          "text": [
            "###\n",
            "\n",
            "Estimation:  OLS\n",
            "Dep. var.: logvio, Fixed effects: 0\n",
            "Inference:  iid\n",
            "Observations:  1173\n",
            "\n",
            "| Coefficient   |   Estimate |   Std. Error |   t value |   Pr(>|t|) |   2.5% |   97.5% |\n",
            "|:--------------|-----------:|-------------:|----------:|-----------:|-------:|--------:|\n",
            "| Intercept     |      6.135 |        0.021 |   296.130 |      0.000 |  6.094 |   6.176 |\n",
            "| shall         |     -0.443 |        0.042 |   -10.539 |      0.000 | -0.525 |  -0.361 |\n",
            "---\n",
            "RMSE: 0.617 R2: 0.087 \n",
            "None\n"
          ]
        }
      ]
    },
    {
      "cell_type": "markdown",
      "metadata": {
        "id": "VpE3-Tj7rM1q"
      },
      "source": [
        "2. **Pooled estimator with control variables**\n",
        "\n",
        "   - Repeat your regression from (1), with additional control variables: $incarc\\_rate$ (incarceration rate), $density$ (population density), and $avginc$ (average income):\n",
        "\n",
        "     \\begin{align*}\n",
        "     \\log(vio_{it}) &= \\beta_0 + \\beta_1 shall_{it} + \\beta_2 incarc\\_rate_{it} + \\beta_3 density_{it} + \\beta_4 avginv_{it} + u_{it}\n",
        "     \\end{align*}\n",
        "\n",
        "   - Report your results in Column 2 of your regression table.\n",
        "   - Does adding the control variables change the estimated effect of a shall-issue law from regression (1)?\n",
        "   - Suggest a variable that varies across states but plausibly varies little over time and that could cause omitted variable bias in regression (2)."
      ]
    },
    {
      "cell_type": "code",
      "source": [
        "# Ahora añadimos dos variables de control z1 y z2\n",
        "model_ols_ctrl = feols('logvio ~ shall + incarc_rate + avginc', data=df)\n",
        "print(model_ols_ctrl.summary())\n"
      ],
      "metadata": {
        "colab": {
          "base_uri": "https://localhost:8080/"
        },
        "id": "AOV14KWiVhjK",
        "outputId": "00ee8d68-6de8-48a0-cc0b-08639646c7a9"
      },
      "execution_count": 12,
      "outputs": [
        {
          "output_type": "stream",
          "name": "stdout",
          "text": [
            "###\n",
            "\n",
            "Estimation:  OLS\n",
            "Dep. var.: logvio, Fixed effects: 0\n",
            "Inference:  iid\n",
            "Observations:  1173\n",
            "\n",
            "| Coefficient   |   Estimate |   Std. Error |   t value |   Pr(>|t|) |   2.5% |   97.5% |\n",
            "|:--------------|-----------:|-------------:|----------:|-----------:|-------:|--------:|\n",
            "| Intercept     |      5.296 |        0.080 |    65.886 |      0.000 |  5.139 |   5.454 |\n",
            "| shall         |     -0.477 |        0.033 |   -14.401 |      0.000 | -0.541 |  -0.412 |\n",
            "| incarc_rate   |      0.002 |        0.000 |    21.248 |      0.000 |  0.002 |   0.002 |\n",
            "| avginc        |      0.030 |        0.006 |     4.842 |      0.000 |  0.018 |   0.043 |\n",
            "---\n",
            "RMSE: 0.485 R2: 0.436 \n",
            "None\n"
          ]
        }
      ]
    },
    {
      "cell_type": "markdown",
      "metadata": {
        "id": "alVjrUFTrM1r"
      },
      "source": [
        "3. **State fixed effects**\n",
        "\n",
        "   - Repeat your regression from (2), this time with the addition of state fixed effects:\n",
        "\n",
        "     \\begin{align*}\n",
        "     \\log(vio_{it}) &= \\beta_0 + \\beta_1 shall_{it} + \\beta_2 incarc\\_rate_{it} + \\beta_3 density_{it} + \\beta_4 avginv_{it} + \\alpha_i + u_{it}\n",
        "     \\end{align*}\n",
        "\n",
        "   - Report your results in Column 3 of your regression table.\n",
        "   - Do you find a difference in your estimate of $\\beta_1$ compared to the pooled regressions (1) and (2)? What does this result imply about whether or not the $\\alpha_i$ terms are distributed independently of the other regressors?"
      ]
    },
    {
      "cell_type": "code",
      "source": [
        "# Efectos fijos por región (supón que df tiene una columna 'region')\n",
        "model_fe_region = feols('logvio ~ shall + incarc_rate + density + avginc | stateid', data=df)\n",
        "print(model_fe_region.summary())\n"
      ],
      "metadata": {
        "colab": {
          "base_uri": "https://localhost:8080/"
        },
        "id": "ILeyZ6TTV0Wl",
        "outputId": "1cbe6b50-05fb-41ab-b046-0ff17e94678d"
      },
      "execution_count": 13,
      "outputs": [
        {
          "output_type": "stream",
          "name": "stdout",
          "text": [
            "###\n",
            "\n",
            "Estimation:  OLS\n",
            "Dep. var.: logvio, Fixed effects: stateid\n",
            "Inference:  CRV1\n",
            "Observations:  1173\n",
            "\n",
            "| Coefficient   |   Estimate |   Std. Error |   t value |   Pr(>|t|) |   2.5% |   97.5% |\n",
            "|:--------------|-----------:|-------------:|----------:|-----------:|-------:|--------:|\n",
            "| shall         |      0.021 |        0.041 |     0.525 |      0.602 | -0.061 |   0.103 |\n",
            "| incarc_rate   |      0.000 |        0.000 |     1.934 |      0.059 | -0.000 |   0.001 |\n",
            "| density       |      0.161 |        0.091 |     1.760 |      0.084 | -0.023 |   0.345 |\n",
            "| avginc        |      0.020 |        0.013 |     1.487 |      0.143 | -0.007 |   0.047 |\n",
            "---\n",
            "RMSE: 0.165 R2: 0.935 R2 Within: 0.133 \n",
            "None\n"
          ]
        }
      ]
    },
    {
      "cell_type": "markdown",
      "metadata": {
        "id": "1Rw9qt0ArM1r"
      },
      "source": [
        "4. **Time fixed effects**\n",
        "\n",
        "   - Repeat your regression from (2), this time with the addition of time fixed effects instead of state fixed effects:\n",
        "\n",
        "     \\begin{align*}\n",
        "     \\log(vio_{it}) &= \\beta_0 + \\beta_1 shall_{it} + \\beta_2 incarc\\_rate_{it} + \\beta_3 density_{it} + \\beta_4 avginv_{it} + \\lambda_t + u_{it}\n",
        "     \\end{align*}\n",
        "\n",
        "   - Report your results in Column 4 of your regression table.\n",
        "   - Do you find a difference in your estimate of $\\beta_1$ compared to the pooled regressions (1) and (2)? What does this result imply about whether or not the $\\lambda_t$ terms are distributed independently of the other regressors?"
      ]
    },
    {
      "cell_type": "code",
      "source": [
        "# Efectos fijos por año (digamos que df tiene una columna 'year')\n",
        "model_fe_time = feols('logvio ~ shall + incarc_rate + density + avginc | year', data=df)\n",
        "print(model_fe_time.summary())\n"
      ],
      "metadata": {
        "colab": {
          "base_uri": "https://localhost:8080/"
        },
        "id": "qhXXdyOvXKgQ",
        "outputId": "0810cdad-46a3-497e-8d68-24ed4cefb208"
      },
      "execution_count": 16,
      "outputs": [
        {
          "output_type": "stream",
          "name": "stdout",
          "text": [
            "###\n",
            "\n",
            "Estimation:  OLS\n",
            "Dep. var.: logvio, Fixed effects: year\n",
            "Inference:  CRV1\n",
            "Observations:  1173\n",
            "\n",
            "| Coefficient   |   Estimate |   Std. Error |   t value |   Pr(>|t|) |   2.5% |   97.5% |\n",
            "|:--------------|-----------:|-------------:|----------:|-----------:|-------:|--------:|\n",
            "| shall         |     -0.343 |        0.027 |   -12.782 |      0.000 | -0.399 |  -0.287 |\n",
            "| incarc_rate   |      0.002 |        0.000 |    13.075 |      0.000 |  0.002 |   0.003 |\n",
            "| density       |     -0.048 |        0.021 |    -2.237 |      0.036 | -0.092 |  -0.003 |\n",
            "| avginc        |      0.060 |        0.007 |     8.728 |      0.000 |  0.046 |   0.075 |\n",
            "---\n",
            "RMSE: 0.466 R2: 0.479 R2 Within: 0.463 \n",
            "None\n"
          ]
        }
      ]
    },
    {
      "cell_type": "markdown",
      "metadata": {
        "id": "wz23eSRQrM1r"
      },
      "source": [
        "5. **Two-way fixed effects**\n",
        "\n",
        "   - Repeat your regression from (2), this time with the addition of state and time fixed effects:\n",
        "\n",
        "     \\begin{align*}\n",
        "     \\log(vio_{it}) &= \\beta_0 + \\beta_1 shall_{it} + \\beta_2 incarc\\_rate_{it} + \\beta_3 density_{it} + \\beta_4 avginv_{it} + \\alpha_i + \\lambda_t + u_{it}\n",
        "     \\end{align*}\n",
        "\n",
        "   - Report your results in Column 5 of your regression table.\n",
        "   - Do you find a difference in your estimate of $\\beta_1$ compared to the pooled regressions (1) and (2)?"
      ]
    },
    {
      "cell_type": "code",
      "source": [
        "# Efectos fijos por año (digamos que df tiene una columna 'year')\n",
        "model_fe_time = feols('logvio ~ shall + incarc_rate + density + avginc | stateid + year', data=df)\n",
        "print(model_fe_time.summary())\n"
      ],
      "metadata": {
        "colab": {
          "base_uri": "https://localhost:8080/"
        },
        "id": "mt0S45O7Xjmo",
        "outputId": "3382858f-9d54-4fd9-90dd-f252d0b18972"
      },
      "execution_count": 20,
      "outputs": [
        {
          "output_type": "stream",
          "name": "stdout",
          "text": [
            "###\n",
            "\n",
            "Estimation:  OLS\n",
            "Dep. var.: logvio, Fixed effects: stateid+year\n",
            "Inference:  CRV1\n",
            "Observations:  1173\n",
            "\n",
            "| Coefficient   |   Estimate |   Std. Error |   t value |   Pr(>|t|) |   2.5% |   97.5% |\n",
            "|:--------------|-----------:|-------------:|----------:|-----------:|-------:|--------:|\n",
            "| shall         |      0.006 |        0.040 |     0.147 |      0.884 | -0.075 |   0.087 |\n",
            "| incarc_rate   |     -0.000 |        0.000 |    -0.039 |      0.969 | -0.001 |   0.000 |\n",
            "| density       |     -0.057 |        0.134 |    -0.425 |      0.673 | -0.326 |   0.212 |\n",
            "| avginc        |      0.005 |        0.015 |     0.349 |      0.729 | -0.024 |   0.035 |\n",
            "---\n",
            "RMSE: 0.139 R2: 0.954 R2 Within: 0.002 \n",
            "None\n"
          ]
        }
      ]
    },
    {
      "cell_type": "markdown",
      "metadata": {
        "id": "ww_Q8CAerM1r"
      },
      "source": [
        "6. **Two-way fixed effects with clustered standard errors**\n",
        "\n",
        "   - Repeat your regression from (5), but cluster your standard errors by state.\n",
        "   - Report your results in Column 6 of your regression table.\n",
        "   - What happens to your standard errors when you cluster by state?"
      ]
    },
    {
      "cell_type": "code",
      "source": [
        "# Efectos fijos por año (digamos que df tiene una columna 'year')\n",
        "model_fe_time = feols('logvio ~ shall + incarc_rate + density + avginc | stateid + year', data=df,vcov={\"CRV1\": \"stateid\"})\n",
        "print(model_fe_time.summary())\n"
      ],
      "metadata": {
        "colab": {
          "base_uri": "https://localhost:8080/"
        },
        "id": "1zIPq89wZO67",
        "outputId": "bbeaebd8-78f1-4da5-ebe0-05f03a4a4778"
      },
      "execution_count": 22,
      "outputs": [
        {
          "output_type": "stream",
          "name": "stdout",
          "text": [
            "###\n",
            "\n",
            "Estimation:  OLS\n",
            "Dep. var.: logvio, Fixed effects: stateid+year\n",
            "Inference:  CRV1\n",
            "Observations:  1173\n",
            "\n",
            "| Coefficient   |   Estimate |   Std. Error |   t value |   Pr(>|t|) |   2.5% |   97.5% |\n",
            "|:--------------|-----------:|-------------:|----------:|-----------:|-------:|--------:|\n",
            "| shall         |      0.006 |        0.040 |     0.147 |      0.884 | -0.075 |   0.087 |\n",
            "| incarc_rate   |     -0.000 |        0.000 |    -0.039 |      0.969 | -0.001 |   0.000 |\n",
            "| density       |     -0.057 |        0.134 |    -0.425 |      0.673 | -0.326 |   0.212 |\n",
            "| avginc        |      0.005 |        0.015 |     0.349 |      0.729 | -0.024 |   0.035 |\n",
            "---\n",
            "RMSE: 0.139 R2: 0.954 R2 Within: 0.002 \n",
            "None\n"
          ]
        }
      ]
    },
    {
      "cell_type": "markdown",
      "metadata": {
        "id": "UH2JNpT_rM1s"
      },
      "source": [
        "7. **Conclusion**\n",
        "\n",
        "   - Based on your analysis, what conclusions would you draw about the effects of concealed weapons laws on crime rates? Does the data support Lott's argument that more guns leads to less crime?"
      ]
    },
    {
      "cell_type": "markdown",
      "metadata": {
        "id": "ZihjfyfKrM1s"
      },
      "source": [
        "## Question 2: Monte Carlo study of clustered standard errors in panel data\n",
        "\n",
        "We mentioned in the lectures that **cluster‑robust standard errors** can be unreliable when the number of clusters is small. The goal of this Monte Carlo exercise is to measure the empirical size of the 5% two‑sided test of $H_0: \\beta = 0$ in a simple panel‑data model, varying only:\n",
        "- the number of clusters, $G$, and  \n",
        "- the number of observations per cluster, $T$."
      ]
    },
    {
      "cell_type": "markdown",
      "metadata": {
        "id": "_qwoxZsurM1s"
      },
      "source": [
        "1. **Constructing the simulated data**\n",
        "\n",
        "   - Simulate data from the following model:\n",
        "   \\begin{align*}\n",
        "x_{gt} &\\sim \\mathcal N(0,1) \\\\\n",
        "\\alpha_g &\\sim \\mathcal N(0,1) \\\\\n",
        "u_{gt} &\\sim \\mathcal N(0,1) \\\\\n",
        "y_{gt} &= \\beta x_{gt} + \\alpha_g + u_{gt}\n",
        "\\end{align*}\n",
        "where $g = 1,\\dots,G,\\; t = 1,\\dots,T$. Assume the true slope $\\beta = 0$.\n",
        "   - Note that $\\alpha_g$ is constant for all $T$ observations within a group $g$.\n",
        "   - Write your code so that you can vary $G$ and $T$."
      ]
    },
    {
      "cell_type": "code",
      "source": [
        "random.seed(1234)\n",
        "g=10\n",
        "t=1000\n",
        "x= np.random.normal(0, 1, size=(g, t))\n",
        "alpha = np.random.normal(0, 1, size=g)\n",
        "u = np.random.normal(0, 1, size=(g, t))\n",
        "y = alpha + u\n"
      ],
      "metadata": {
        "colab": {
          "base_uri": "https://localhost:8080/",
          "height": 211
        },
        "id": "Rc50HfkXkDXm",
        "outputId": "6b78ed99-398c-421a-c512-22b3d7cb8158"
      },
      "execution_count": 1,
      "outputs": [
        {
          "output_type": "error",
          "ename": "NameError",
          "evalue": "name 'random' is not defined",
          "traceback": [
            "\u001b[0;31m---------------------------------------------------------------------------\u001b[0m",
            "\u001b[0;31mNameError\u001b[0m                                 Traceback (most recent call last)",
            "\u001b[0;32m<ipython-input-1-f3a1c1033d94>\u001b[0m in \u001b[0;36m<cell line: 0>\u001b[0;34m()\u001b[0m\n\u001b[0;32m----> 1\u001b[0;31m \u001b[0mrandom\u001b[0m\u001b[0;34m.\u001b[0m\u001b[0mseed\u001b[0m\u001b[0;34m(\u001b[0m\u001b[0;36m1234\u001b[0m\u001b[0;34m)\u001b[0m\u001b[0;34m\u001b[0m\u001b[0;34m\u001b[0m\u001b[0m\n\u001b[0m\u001b[1;32m      2\u001b[0m \u001b[0mg\u001b[0m\u001b[0;34m=\u001b[0m\u001b[0;36m10\u001b[0m\u001b[0;34m\u001b[0m\u001b[0;34m\u001b[0m\u001b[0m\n\u001b[1;32m      3\u001b[0m \u001b[0mt\u001b[0m\u001b[0;34m=\u001b[0m\u001b[0;36m1000\u001b[0m\u001b[0;34m\u001b[0m\u001b[0;34m\u001b[0m\u001b[0m\n\u001b[1;32m      4\u001b[0m \u001b[0mx\u001b[0m\u001b[0;34m=\u001b[0m \u001b[0mnp\u001b[0m\u001b[0;34m.\u001b[0m\u001b[0mrandom\u001b[0m\u001b[0;34m.\u001b[0m\u001b[0mnormal\u001b[0m\u001b[0;34m(\u001b[0m\u001b[0;36m0\u001b[0m\u001b[0;34m,\u001b[0m \u001b[0;36m1\u001b[0m\u001b[0;34m,\u001b[0m \u001b[0msize\u001b[0m\u001b[0;34m=\u001b[0m\u001b[0;34m(\u001b[0m\u001b[0mg\u001b[0m\u001b[0;34m,\u001b[0m \u001b[0mt\u001b[0m\u001b[0;34m)\u001b[0m\u001b[0;34m)\u001b[0m\u001b[0;34m\u001b[0m\u001b[0;34m\u001b[0m\u001b[0m\n\u001b[1;32m      5\u001b[0m \u001b[0malpha\u001b[0m \u001b[0;34m=\u001b[0m \u001b[0mnp\u001b[0m\u001b[0;34m.\u001b[0m\u001b[0mrandom\u001b[0m\u001b[0;34m.\u001b[0m\u001b[0mnormal\u001b[0m\u001b[0;34m(\u001b[0m\u001b[0;36m0\u001b[0m\u001b[0;34m,\u001b[0m \u001b[0;36m1\u001b[0m\u001b[0;34m,\u001b[0m \u001b[0msize\u001b[0m\u001b[0;34m=\u001b[0m\u001b[0mg\u001b[0m\u001b[0;34m)\u001b[0m\u001b[0;34m\u001b[0m\u001b[0;34m\u001b[0m\u001b[0m\n",
            "\u001b[0;31mNameError\u001b[0m: name 'random' is not defined"
          ]
        }
      ]
    },
    {
      "cell_type": "markdown",
      "metadata": {
        "id": "XU-jba-XrM1s"
      },
      "source": [
        "2. **Estimation and hypothesis testing**\n",
        "   \n",
        "   - Estimate the model $y_{gt} = \\beta x_{gt} + \\alpha_g + u_{gt}$, where $\\alpha_g$ is a group fixed effect. For example, you could use the `pf.feols` function with group fixed effects.\n",
        "   - Use standard errors clustered on the group variable $g$.\n",
        "   - Using a 5% significance level, record whether you reject $H_0: \\beta = 0$.\n",
        "   - Repeat this process 2000 times and return the average rejection rate.\n",
        "   - Given that $H_0$ is true ($\\beta$ really does equal 0), the rejection rate for a 5% test should be close to 5%."
      ]
    },
    {
      "cell_type": "markdown",
      "metadata": {
        "id": "xcurbSC1rM1t"
      },
      "source": [
        "3. **Varying $G$ and $T$**\n",
        "   \n",
        "   - Create a grid of values of $G$ and $T$. For example, $G \\in \\{5,10,20,30,50,100,250\\}$ and $T \\in \\{5, 10, 20, 50, 100\\}$\n",
        "   - For every $(G,T)$ pair, run the 2000 replications in (2) and store the rejection rate that is returned.\n",
        "   - Present your results in a table where $G$ varies across the rows and $T$ varies across the columns."
      ]
    },
    {
      "cell_type": "markdown",
      "metadata": {
        "id": "LeRbAw1krM1t"
      },
      "source": [
        "4. **Interpetation**\n",
        "\n",
        "   - What happens to the empirical size as $T$ rises while $G$ stays fixed?\n",
        "   - What happens to the empirical size as $G$ rises while $T$ stays fixed?\n",
        "   - Discuss the implications of your results for empirical researchers using clustered standard errors."
      ]
    }
  ],
  "metadata": {
    "colab": {
      "provenance": [],
      "include_colab_link": true
    },
    "kernelspec": {
      "display_name": "venv",
      "language": "python",
      "name": "python3"
    },
    "language_info": {
      "codemirror_mode": {
        "name": "ipython",
        "version": 3
      },
      "file_extension": ".py",
      "mimetype": "text/x-python",
      "name": "python",
      "nbconvert_exporter": "python",
      "pygments_lexer": "ipython3",
      "version": "3.12.8"
    }
  },
  "nbformat": 4,
  "nbformat_minor": 0
}